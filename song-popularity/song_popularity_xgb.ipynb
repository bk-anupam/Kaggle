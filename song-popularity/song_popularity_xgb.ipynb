{
 "cells": [
  {
   "cell_type": "code",
   "execution_count": 53,
   "metadata": {},
   "outputs": [],
   "source": [
    "import pandas as pd\n",
    "import numpy as np\n",
    "from sklearn import model_selection\n",
    "from sklearn.preprocessing import OneHotEncoder, StandardScaler\n",
    "from sklearn.impute import SimpleImputer\n",
    "from sklearn.metrics import roc_auc_score\n",
    "import xgboost as xgb\n",
    "from xgboost import XGBClassifier, XGBRegressor\n",
    "import optuna\n",
    "import warnings\n",
    "\n",
    "warnings.filterwarnings('ignore')"
   ]
  },
  {
   "cell_type": "code",
   "execution_count": 2,
   "metadata": {},
   "outputs": [],
   "source": [
    "class Config:\n",
    "    RANDOM_SEED = 42\n",
    "    NUM_FOLDS = 5\n",
    "    TARGET_COL_NAME = \"song_popularity\"\n",
    "    CATEGORICAL_COLS = [\"audio_mode\", \"time_signature\", \"key\"]\n",
    "\n",
    "DATA_PATH = \"./data/\""
   ]
  },
  {
   "cell_type": "code",
   "execution_count": 3,
   "metadata": {},
   "outputs": [],
   "source": [
    "df_train = pd.read_csv(DATA_PATH + \"train.csv\")\n",
    "df_test = pd.read_csv(DATA_PATH + \"test.csv\")"
   ]
  },
  {
   "cell_type": "code",
   "execution_count": 4,
   "metadata": {},
   "outputs": [
    {
     "data": {
      "text/html": [
       "<div>\n",
       "<style scoped>\n",
       "    .dataframe tbody tr th:only-of-type {\n",
       "        vertical-align: middle;\n",
       "    }\n",
       "\n",
       "    .dataframe tbody tr th {\n",
       "        vertical-align: top;\n",
       "    }\n",
       "\n",
       "    .dataframe thead th {\n",
       "        text-align: right;\n",
       "    }\n",
       "</style>\n",
       "<table border=\"1\" class=\"dataframe\">\n",
       "  <thead>\n",
       "    <tr style=\"text-align: right;\">\n",
       "      <th></th>\n",
       "      <th>id</th>\n",
       "      <th>song_duration_ms</th>\n",
       "      <th>acousticness</th>\n",
       "      <th>danceability</th>\n",
       "      <th>energy</th>\n",
       "      <th>instrumentalness</th>\n",
       "      <th>key</th>\n",
       "      <th>liveness</th>\n",
       "      <th>loudness</th>\n",
       "      <th>audio_mode</th>\n",
       "      <th>speechiness</th>\n",
       "      <th>tempo</th>\n",
       "      <th>time_signature</th>\n",
       "      <th>audio_valence</th>\n",
       "      <th>song_popularity</th>\n",
       "      <th>kfold</th>\n",
       "    </tr>\n",
       "  </thead>\n",
       "  <tbody>\n",
       "    <tr>\n",
       "      <th>0</th>\n",
       "      <td>32823</td>\n",
       "      <td>144667.0</td>\n",
       "      <td>0.585599</td>\n",
       "      <td>0.691626</td>\n",
       "      <td>0.503891</td>\n",
       "      <td>0.222360</td>\n",
       "      <td>10.0</td>\n",
       "      <td>0.115524</td>\n",
       "      <td>-11.642316</td>\n",
       "      <td>0</td>\n",
       "      <td>0.049854</td>\n",
       "      <td>86.041825</td>\n",
       "      <td>3</td>\n",
       "      <td>0.539072</td>\n",
       "      <td>1</td>\n",
       "      <td>4</td>\n",
       "    </tr>\n",
       "    <tr>\n",
       "      <th>1</th>\n",
       "      <td>16298</td>\n",
       "      <td>203954.0</td>\n",
       "      <td>0.016664</td>\n",
       "      <td>0.667695</td>\n",
       "      <td>0.683820</td>\n",
       "      <td>0.001178</td>\n",
       "      <td>4.0</td>\n",
       "      <td>0.213299</td>\n",
       "      <td>NaN</td>\n",
       "      <td>1</td>\n",
       "      <td>0.102933</td>\n",
       "      <td>97.073546</td>\n",
       "      <td>3</td>\n",
       "      <td>0.667166</td>\n",
       "      <td>0</td>\n",
       "      <td>0</td>\n",
       "    </tr>\n",
       "    <tr>\n",
       "      <th>2</th>\n",
       "      <td>28505</td>\n",
       "      <td>179054.0</td>\n",
       "      <td>0.069471</td>\n",
       "      <td>0.624358</td>\n",
       "      <td>0.891436</td>\n",
       "      <td>0.000637</td>\n",
       "      <td>2.0</td>\n",
       "      <td>NaN</td>\n",
       "      <td>NaN</td>\n",
       "      <td>1</td>\n",
       "      <td>0.173795</td>\n",
       "      <td>140.102334</td>\n",
       "      <td>4</td>\n",
       "      <td>0.824423</td>\n",
       "      <td>0</td>\n",
       "      <td>1</td>\n",
       "    </tr>\n",
       "    <tr>\n",
       "      <th>3</th>\n",
       "      <td>6689</td>\n",
       "      <td>246074.0</td>\n",
       "      <td>0.333662</td>\n",
       "      <td>0.645299</td>\n",
       "      <td>0.716589</td>\n",
       "      <td>0.003159</td>\n",
       "      <td>2.0</td>\n",
       "      <td>0.114810</td>\n",
       "      <td>-9.178056</td>\n",
       "      <td>0</td>\n",
       "      <td>0.056690</td>\n",
       "      <td>101.694474</td>\n",
       "      <td>4</td>\n",
       "      <td>0.532739</td>\n",
       "      <td>1</td>\n",
       "      <td>3</td>\n",
       "    </tr>\n",
       "    <tr>\n",
       "      <th>4</th>\n",
       "      <td>26893</td>\n",
       "      <td>282403.0</td>\n",
       "      <td>0.378221</td>\n",
       "      <td>0.258557</td>\n",
       "      <td>0.617000</td>\n",
       "      <td>0.001366</td>\n",
       "      <td>7.0</td>\n",
       "      <td>0.172308</td>\n",
       "      <td>-6.721257</td>\n",
       "      <td>0</td>\n",
       "      <td>0.044904</td>\n",
       "      <td>123.402262</td>\n",
       "      <td>3</td>\n",
       "      <td>0.717549</td>\n",
       "      <td>0</td>\n",
       "      <td>1</td>\n",
       "    </tr>\n",
       "  </tbody>\n",
       "</table>\n",
       "</div>"
      ],
      "text/plain": [
       "      id  song_duration_ms  acousticness  danceability    energy  \\\n",
       "0  32823          144667.0      0.585599      0.691626  0.503891   \n",
       "1  16298          203954.0      0.016664      0.667695  0.683820   \n",
       "2  28505          179054.0      0.069471      0.624358  0.891436   \n",
       "3   6689          246074.0      0.333662      0.645299  0.716589   \n",
       "4  26893          282403.0      0.378221      0.258557  0.617000   \n",
       "\n",
       "   instrumentalness   key  liveness   loudness  audio_mode  speechiness  \\\n",
       "0          0.222360  10.0  0.115524 -11.642316           0     0.049854   \n",
       "1          0.001178   4.0  0.213299        NaN           1     0.102933   \n",
       "2          0.000637   2.0       NaN        NaN           1     0.173795   \n",
       "3          0.003159   2.0  0.114810  -9.178056           0     0.056690   \n",
       "4          0.001366   7.0  0.172308  -6.721257           0     0.044904   \n",
       "\n",
       "        tempo  time_signature  audio_valence  song_popularity  kfold  \n",
       "0   86.041825               3       0.539072                1      4  \n",
       "1   97.073546               3       0.667166                0      0  \n",
       "2  140.102334               4       0.824423                0      1  \n",
       "3  101.694474               4       0.532739                1      3  \n",
       "4  123.402262               3       0.717549                0      1  "
      ]
     },
     "execution_count": 4,
     "metadata": {},
     "output_type": "execute_result"
    }
   ],
   "source": [
    "# split the training dataframe into kfolds for cross validation. We do this before any processing is done\n",
    "# on the data. We use stratified kfold if the target distribution is unbalanced\n",
    "def strat_kfold_dataframe(df, target_col_name, num_folds=5):\n",
    "    # we create a new column called kfold and fill it with -1\n",
    "    df[\"kfold\"] = -1\n",
    "    # randomize of shuffle the rows of dataframe before splitting is done\n",
    "    df = df.sample(frac=1, random_state=Config.RANDOM_SEED).reset_index(drop=True)\n",
    "    # get the target data\n",
    "    y = df[target_col_name].values\n",
    "    skf = model_selection.StratifiedKFold(n_splits=num_folds, shuffle=True, random_state=42)\n",
    "    for fold, (train_index, val_index) in enumerate(skf.split(X=df, y=y)):\n",
    "        df.loc[val_index, \"kfold\"] = fold    \n",
    "    return df     \n",
    "\n",
    "df_train = strat_kfold_dataframe(df_train, target_col_name=Config.TARGET_COL_NAME, num_folds=Config.NUM_FOLDS)\n",
    "df_train.head()"
   ]
  },
  {
   "cell_type": "code",
   "execution_count": 5,
   "metadata": {},
   "outputs": [],
   "source": [
    "cont_cols = ['song_duration_ms', 'acousticness', 'danceability', 'energy', \n",
    "            'instrumentalness', 'liveness', 'loudness', 'speechiness', 'tempo', 'audio_valence']"
   ]
  },
  {
   "cell_type": "code",
   "execution_count": 6,
   "metadata": {},
   "outputs": [],
   "source": [
    "def impute_df_col(df, col_name, imputer):\n",
    "    imputed_col = imputer.fit_transform(df[col_name].to_numpy().reshape(-1, 1))\n",
    "    return pd.Series(imputed_col.reshape(-1))    "
   ]
  },
  {
   "cell_type": "code",
   "execution_count": 7,
   "metadata": {},
   "outputs": [],
   "source": [
    "def impute_missing_values(df, cols, col_type=\"cont\"):    \n",
    "    if col_type == \"cont\":\n",
    "        imputer = SimpleImputer(missing_values=np.nan, strategy=\"mean\")\n",
    "    elif col_type == \"cat\":\n",
    "        imputer = SimpleImputer(missing_values=np.nan, strategy=\"most_frequent\")            \n",
    "    for col in cols:\n",
    "        df[col] = impute_df_col(df, col, imputer)\n",
    "    return df"
   ]
  },
  {
   "cell_type": "code",
   "execution_count": 8,
   "metadata": {},
   "outputs": [],
   "source": [
    "#df_train = impute_missing_values(df_train, Config.CATEGORICAL_COLS, col_type=\"cat\")\n",
    "#df_train = impute_missing_values(df_train, cont_cols, col_type=\"cont\")\n",
    "#df_test = impute_missing_values(df_test, Config.CATEGORICAL_COLS, col_type=\"cat\")\n",
    "#df_test = impute_missing_values(df_test, cont_cols, col_type=\"cont\")"
   ]
  },
  {
   "cell_type": "code",
   "execution_count": 9,
   "metadata": {},
   "outputs": [],
   "source": [
    "train_cols_withnulls = [col for col in df_train.columns if df_train[col].isnull().any()]\n",
    "test_cols_withnulls = [col for col in df_test.columns if df_test[col].isnull().any()]"
   ]
  },
  {
   "cell_type": "code",
   "execution_count": 10,
   "metadata": {},
   "outputs": [],
   "source": [
    "def add_missing_col(df, cols_with_nulls):\n",
    "    for col_name in cols_with_nulls:        \n",
    "        df[col_name + \"_missing\"] = [int(item) for item in df[col_name].isna().values]\n",
    "    return df        \n",
    "\n",
    "df_train = add_missing_col(df_train, train_cols_withnulls)\n",
    "df_test = add_missing_col(df_test, test_cols_withnulls)"
   ]
  },
  {
   "cell_type": "code",
   "execution_count": 11,
   "metadata": {},
   "outputs": [],
   "source": [
    "df_train = pd.get_dummies(df_train, prefix=Config.CATEGORICAL_COLS, columns=Config.CATEGORICAL_COLS)\n",
    "df_test = pd.get_dummies(df_test, prefix=Config.CATEGORICAL_COLS, columns=Config.CATEGORICAL_COLS)"
   ]
  },
  {
   "cell_type": "code",
   "execution_count": 12,
   "metadata": {},
   "outputs": [],
   "source": [
    "cols_to_leave = [\"id\", \"kfold\", \"song_popularity_proba\", Config.TARGET_COL_NAME]\n",
    "col_names = [item for item in df_train.columns.values.tolist() if item not in cols_to_leave]    "
   ]
  },
  {
   "cell_type": "code",
   "execution_count": 13,
   "metadata": {},
   "outputs": [],
   "source": [
    "def get_input_features(df):\n",
    "    cols_to_leave = [\"id\", \"kfold\", Config.TARGET_COL_NAME]\n",
    "    col_names = [item for item in df.columns.values.tolist() if item not in cols_to_leave]        \n",
    "    return df[col_names]\n",
    "\n",
    "def get_fold_data(fold, df):\n",
    "    df_train = df[df.kfold != fold]\n",
    "    df_val = df[df.kfold == fold]    \n",
    "    X_train = df_train[col_names]\n",
    "    y_train = df_train[Config.TARGET_COL_NAME]\n",
    "    X_val = df_val[col_names]\n",
    "    y_val = df_val[Config.TARGET_COL_NAME]\n",
    "    return X_train, y_train, X_val, y_val    "
   ]
  },
  {
   "cell_type": "code",
   "execution_count": 57,
   "metadata": {},
   "outputs": [],
   "source": [
    "def run_training(train_X, train_y, val_X, val_y, params=None, callbacks=None):\n",
    "    model = XGBClassifier(**params, verbosity=0)    \n",
    "    #model = XGBRegressor(**params, verbosity=0)    \n",
    "    if callbacks is not None:\n",
    "        model.fit(\n",
    "            train_X, \n",
    "            train_y,\n",
    "            eval_metric=\"auc\",\n",
    "            eval_set=[(train_X, train_y), (val_X, val_y)],                        \n",
    "            verbose=params[\"verbose\"],\n",
    "            callbacks=callbacks\n",
    "        )    \n",
    "    else:\n",
    "        model.fit(\n",
    "            train_X, \n",
    "            train_y,\n",
    "            eval_metric=\"auc\",\n",
    "            eval_set=[(train_X, train_y), (val_X, val_y)],                        \n",
    "            verbose=params[\"verbose\"]\n",
    "        )    \n",
    "    y_val_pred = model.predict_proba(val_X)[:,1]\n",
    "    auc = roc_auc_score(val_y, y_val_pred)\n",
    "    return auc, model, y_val_pred    "
   ]
  },
  {
   "cell_type": "code",
   "execution_count": 61,
   "metadata": {},
   "outputs": [
    {
     "name": "stderr",
     "output_type": "stream",
     "text": [
      "\u001b[32m[I 2022-01-31 12:12:35,503]\u001b[0m A new study created in memory with name: LGBMModelTuning\u001b[0m\n",
      "\u001b[32m[I 2022-01-31 12:12:37,027]\u001b[0m Trial 0 finished with value: 0.54072286 and parameters: {'subsample': 0.7108879401423336, 'colsample_bytree': 0.8648380088311554, 'alpha': 81.31101609060669, 'lambda': 29.88044536003434}. Best is trial 0 with value: 0.54072286.\u001b[0m\n",
      "\u001b[32m[I 2022-01-31 12:12:37,358]\u001b[0m Trial 1 finished with value: 0.5023058 and parameters: {'subsample': 0.12605366988368416, 'colsample_bytree': 0.04951125674153789, 'alpha': 74.55784835976652, 'lambda': 76.0441560933783}. Best is trial 0 with value: 0.54072286.\u001b[0m\n",
      "\u001b[32m[I 2022-01-31 12:12:37,930]\u001b[0m Trial 2 finished with value: 0.5181560000000001 and parameters: {'subsample': 0.6217519475724821, 'colsample_bytree': 0.11434728134537286, 'alpha': 80.3850611440158, 'lambda': 49.96767234420163}. Best is trial 0 with value: 0.54072286.\u001b[0m\n",
      "\u001b[32m[I 2022-01-31 12:12:38,895]\u001b[0m Trial 3 finished with value: 0.54394776 and parameters: {'subsample': 0.3911790494029904, 'colsample_bytree': 0.33234442198339986, 'alpha': 4.929162150069849, 'lambda': 3.319068908091159}. Best is trial 3 with value: 0.54394776.\u001b[0m\n",
      "\u001b[32m[I 2022-01-31 12:12:40,150]\u001b[0m Trial 4 finished with value: 0.5362378600000001 and parameters: {'subsample': 0.48560259508706316, 'colsample_bytree': 0.9093444110865148, 'alpha': 64.86673765706574, 'lambda': 18.796253418454434}. Best is trial 3 with value: 0.54394776.\u001b[0m\n",
      "\u001b[32m[I 2022-01-31 12:12:40,903]\u001b[0m Trial 5 finished with value: 0.5254885400000001 and parameters: {'subsample': 0.9802557980672306, 'colsample_bytree': 0.11746043375073079, 'alpha': 33.7276201348473, 'lambda': 39.48758981149213}. Best is trial 3 with value: 0.54394776.\u001b[0m\n",
      "\u001b[32m[I 2022-01-31 12:12:41,525]\u001b[0m Trial 6 finished with value: 0.5299375000000001 and parameters: {'subsample': 0.0658346757288295, 'colsample_bytree': 0.47803131670764476, 'alpha': 8.882331119796376, 'lambda': 27.73439149890725}. Best is trial 3 with value: 0.54394776.\u001b[0m\n",
      "\u001b[32m[I 2022-01-31 12:12:43,068]\u001b[0m Trial 7 finished with value: 0.5562543200000001 and parameters: {'subsample': 0.7075405334153324, 'colsample_bytree': 0.8797071564062178, 'alpha': 7.156477940765539, 'lambda': 8.233814134771968}. Best is trial 7 with value: 0.5562543200000001.\u001b[0m\n",
      "\u001b[32m[I 2022-01-31 12:12:44,023]\u001b[0m Trial 8 finished with value: 0.52924612 and parameters: {'subsample': 0.7578326585685333, 'colsample_bytree': 0.27148450310357564, 'alpha': 87.30679315882045, 'lambda': 34.46651672991684}. Best is trial 7 with value: 0.5562543200000001.\u001b[0m\n",
      "\u001b[32m[I 2022-01-31 12:12:45,293]\u001b[0m Trial 9 finished with value: 0.5397542800000001 and parameters: {'subsample': 0.5001757193319665, 'colsample_bytree': 0.7638186121934976, 'alpha': 52.592888069859946, 'lambda': 63.92320232410194}. Best is trial 7 with value: 0.5562543200000001.\u001b[0m\n",
      "\u001b[32m[I 2022-01-31 12:12:46,903]\u001b[0m Trial 10 finished with value: 0.5537691 and parameters: {'subsample': 0.8998449740127213, 'colsample_bytree': 0.6622224798030963, 'alpha': 28.928905480404904, 'lambda': 0.016427008596849646}. Best is trial 7 with value: 0.5562543200000001.\u001b[0m\n",
      "\u001b[32m[I 2022-01-31 12:12:48,422]\u001b[0m Trial 11 finished with value: 0.5549134 and parameters: {'subsample': 0.9058187365853752, 'colsample_bytree': 0.6711791244873089, 'alpha': 29.006275655339692, 'lambda': 2.8562017619168074}. Best is trial 7 with value: 0.5562543200000001.\u001b[0m\n",
      "\u001b[32m[I 2022-01-31 12:12:49,724]\u001b[0m Trial 12 finished with value: 0.55310348 and parameters: {'subsample': 0.8639795593122381, 'colsample_bytree': 0.6166287207203296, 'alpha': 24.014000913555925, 'lambda': 11.958671943428008}. Best is trial 7 with value: 0.5562543200000001.\u001b[0m\n",
      "\u001b[32m[I 2022-01-31 12:12:51,305]\u001b[0m Trial 13 finished with value: 0.5548251399999999 and parameters: {'subsample': 0.7727981033251289, 'colsample_bytree': 0.9530802935753337, 'alpha': 16.88974548748687, 'lambda': 95.69203644948692}. Best is trial 7 with value: 0.5562543200000001.\u001b[0m\n",
      "\u001b[32m[I 2022-01-31 12:12:52,550]\u001b[0m Trial 14 finished with value: 0.54391956 and parameters: {'subsample': 0.6129603335988186, 'colsample_bytree': 0.7612483017497796, 'alpha': 43.312866591090405, 'lambda': 17.314776583475847}. Best is trial 7 with value: 0.5562543200000001.\u001b[0m\n",
      "\u001b[32m[I 2022-01-31 12:12:53,397]\u001b[0m Trial 15 finished with value: 0.544341 and parameters: {'subsample': 0.28892115157920883, 'colsample_bytree': 0.5293316479102425, 'alpha': 0.5296441228182509, 'lambda': 11.469890237491086}. Best is trial 7 with value: 0.5562543200000001.\u001b[0m\n",
      "\u001b[32m[I 2022-01-31 12:12:54,949]\u001b[0m Trial 16 finished with value: 0.5498681200000001 and parameters: {'subsample': 0.8874903801177877, 'colsample_bytree': 0.776128455897886, 'alpha': 44.99762559682057, 'lambda': 48.458510595599016}. Best is trial 7 with value: 0.5562543200000001.\u001b[0m\n",
      "\u001b[32m[I 2022-01-31 12:12:56,465]\u001b[0m Trial 17 finished with value: 0.5529610199999999 and parameters: {'subsample': 0.6640872351522791, 'colsample_bytree': 0.9883100982215601, 'alpha': 14.669723509953052, 'lambda': 69.58716821592647}. Best is trial 7 with value: 0.5562543200000001.\u001b[0m\n",
      "\u001b[32m[I 2022-01-31 12:12:57,723]\u001b[0m Trial 18 finished with value: 0.5406951600000001 and parameters: {'subsample': 0.9624019063745602, 'colsample_bytree': 0.6669318009672675, 'alpha': 98.97828749041747, 'lambda': 0.03481239276796089}. Best is trial 7 with value: 0.5562543200000001.\u001b[0m\n",
      "\u001b[32m[I 2022-01-31 12:12:59,176]\u001b[0m Trial 19 finished with value: 0.54861192 and parameters: {'subsample': 0.8219288780136169, 'colsample_bytree': 0.4425760286797268, 'alpha': 34.283348330848966, 'lambda': 22.43763066722959}. Best is trial 7 with value: 0.5562543200000001.\u001b[0m\n",
      "\u001b[32m[I 2022-01-31 12:13:00,596]\u001b[0m Trial 20 finished with value: 0.5529372 and parameters: {'subsample': 0.5929071330842137, 'colsample_bytree': 0.8382904316421566, 'alpha': 17.63188146574766, 'lambda': 8.934691898207838}. Best is trial 7 with value: 0.5562543200000001.\u001b[0m\n",
      "\u001b[32m[I 2022-01-31 12:13:02,154]\u001b[0m Trial 21 finished with value: 0.5519421800000001 and parameters: {'subsample': 0.768661536010106, 'colsample_bytree': 0.9952318676666134, 'alpha': 20.61979970159725, 'lambda': 94.24333262922448}. Best is trial 7 with value: 0.5562543200000001.\u001b[0m\n",
      "\u001b[32m[I 2022-01-31 12:13:03,686]\u001b[0m Trial 22 finished with value: 0.55326542 and parameters: {'subsample': 0.7992920167801051, 'colsample_bytree': 0.9146924582068031, 'alpha': 12.405128236875509, 'lambda': 97.61701870067643}. Best is trial 7 with value: 0.5562543200000001.\u001b[0m\n",
      "\u001b[32m[I 2022-01-31 12:13:04,877]\u001b[0m Trial 23 finished with value: 0.54731656 and parameters: {'subsample': 0.7178300533193243, 'colsample_bytree': 0.5890903438754541, 'alpha': 27.424111547678834, 'lambda': 84.94709253616881}. Best is trial 7 with value: 0.5562543200000001.\u001b[0m\n",
      "\u001b[32m[I 2022-01-31 12:13:06,260]\u001b[0m Trial 24 finished with value: 0.5496298399999999 and parameters: {'subsample': 0.9987261642973208, 'colsample_bytree': 0.723353541399949, 'alpha': 40.05445781992003, 'lambda': 58.2484928471369}. Best is trial 7 with value: 0.5562543200000001.\u001b[0m\n",
      "\u001b[32m[I 2022-01-31 12:13:07,863]\u001b[0m Trial 25 finished with value: 0.5467765800000001 and parameters: {'subsample': 0.8982863691662526, 'colsample_bytree': 0.8313845819902601, 'alpha': 52.785008573011304, 'lambda': 84.0959534056397}. Best is trial 7 with value: 0.5562543200000001.\u001b[0m\n",
      "\u001b[32m[I 2022-01-31 12:13:09,302]\u001b[0m Trial 26 finished with value: 0.5557421800000001 and parameters: {'subsample': 0.5491425034179311, 'colsample_bytree': 0.9365874348016651, 'alpha': 0.20710987927918634, 'lambda': 39.7974338544674}. Best is trial 7 with value: 0.5562543200000001.\u001b[0m\n",
      "\u001b[32m[I 2022-01-31 12:13:10,808]\u001b[0m Trial 27 finished with value: 0.5534463799999999 and parameters: {'subsample': 0.4850618463679272, 'colsample_bytree': 0.869488171775911, 'alpha': 0.7098285832136304, 'lambda': 38.39307185930443}. Best is trial 7 with value: 0.5562543200000001.\u001b[0m\n",
      "\u001b[32m[I 2022-01-31 12:13:12,059]\u001b[0m Trial 28 finished with value: 0.54655936 and parameters: {'subsample': 0.33654630351206816, 'colsample_bytree': 0.7051568515780013, 'alpha': 10.220322405701618, 'lambda': 43.790540255626276}. Best is trial 7 with value: 0.5562543200000001.\u001b[0m\n",
      "\u001b[32m[I 2022-01-31 12:13:13,448]\u001b[0m Trial 29 finished with value: 0.5557540599999999 and parameters: {'subsample': 0.6888110490587035, 'colsample_bytree': 0.8043371033620353, 'alpha': 6.9412437439277745, 'lambda': 27.38045284581642}. Best is trial 7 with value: 0.5562543200000001.\u001b[0m\n",
      "\u001b[32m[I 2022-01-31 12:13:15,260]\u001b[0m Trial 30 finished with value: 0.5547231199999999 and parameters: {'subsample': 0.5479295031475598, 'colsample_bytree': 0.8298135194032942, 'alpha': 5.085638666808398, 'lambda': 27.670512591871006}. Best is trial 7 with value: 0.5562543200000001.\u001b[0m\n",
      "\u001b[32m[I 2022-01-31 12:13:17,140]\u001b[0m Trial 31 finished with value: 0.5586902399999999 and parameters: {'subsample': 0.7053369899368813, 'colsample_bytree': 0.8813112046509989, 'alpha': 7.046590910733461, 'lambda': 22.620219206692273}. Best is trial 31 with value: 0.5586902399999999.\u001b[0m\n",
      "\u001b[32m[I 2022-01-31 12:13:18,678]\u001b[0m Trial 32 finished with value: 0.5578429199999999 and parameters: {'subsample': 0.6680630344143781, 'colsample_bytree': 0.9044272604410849, 'alpha': 6.51461362240586, 'lambda': 32.48467925873304}. Best is trial 31 with value: 0.5586902399999999.\u001b[0m\n",
      "\u001b[32m[I 2022-01-31 12:13:20,194]\u001b[0m Trial 33 finished with value: 0.55624706 and parameters: {'subsample': 0.6737233855042843, 'colsample_bytree': 0.8073615926506232, 'alpha': 7.040167288984287, 'lambda': 23.74478368257258}. Best is trial 31 with value: 0.5586902399999999.\u001b[0m\n",
      "\u001b[32m[I 2022-01-31 12:13:21,675]\u001b[0m Trial 34 finished with value: 0.5550767600000001 and parameters: {'subsample': 0.673619800151027, 'colsample_bytree': 0.9071872629368591, 'alpha': 20.9372619749323, 'lambda': 21.702457595731026}. Best is trial 31 with value: 0.5586902399999999.\u001b[0m\n",
      "\u001b[32m[I 2022-01-31 12:13:23,037]\u001b[0m Trial 35 finished with value: 0.54467612 and parameters: {'subsample': 0.7224399114752291, 'colsample_bytree': 0.884471051754531, 'alpha': 64.71551789094624, 'lambda': 33.7736281253001}. Best is trial 31 with value: 0.5586902399999999.\u001b[0m\n",
      "\u001b[32m[I 2022-01-31 12:13:24,716]\u001b[0m Trial 36 finished with value: 0.5565927 and parameters: {'subsample': 0.6370735206056314, 'colsample_bytree': 0.9635965595607859, 'alpha': 11.290953705186205, 'lambda': 16.750420929592714}. Best is trial 31 with value: 0.5586902399999999.\u001b[0m\n",
      "\u001b[32m[I 2022-01-31 12:13:26,000]\u001b[0m Trial 37 finished with value: 0.55390192 and parameters: {'subsample': 0.420432581899422, 'colsample_bytree': 0.9600956473294661, 'alpha': 13.50253135049439, 'lambda': 15.726386680412864}. Best is trial 31 with value: 0.5586902399999999.\u001b[0m\n",
      "\u001b[32m[I 2022-01-31 12:13:26,955]\u001b[0m Trial 38 finished with value: 0.54119128 and parameters: {'subsample': 0.61643408086045, 'colsample_bytree': 0.26363577938738314, 'alpha': 24.04863492885273, 'lambda': 7.119514898469388}. Best is trial 31 with value: 0.5586902399999999.\u001b[0m\n",
      "\u001b[32m[I 2022-01-31 12:13:27,886]\u001b[0m Trial 39 finished with value: 0.5397079399999999 and parameters: {'subsample': 0.182075864693372, 'colsample_bytree': 0.8796364682949275, 'alpha': 12.115828403609603, 'lambda': 30.662238779306033}. Best is trial 31 with value: 0.5586902399999999.\u001b[0m\n",
      "\u001b[32m[I 2022-01-31 12:13:29,284]\u001b[0m Trial 40 finished with value: 0.5395478600000001 and parameters: {'subsample': 0.5317804778627224, 'colsample_bytree': 0.9875132004043821, 'alpha': 61.77020308980205, 'lambda': 14.019088765641932}. Best is trial 31 with value: 0.5586902399999999.\u001b[0m\n",
      "\u001b[32m[I 2022-01-31 12:13:30,689]\u001b[0m Trial 41 finished with value: 0.55447928 and parameters: {'subsample': 0.6452231922443038, 'colsample_bytree': 0.7915429129187078, 'alpha': 6.221782427945896, 'lambda': 23.204355401333476}. Best is trial 31 with value: 0.5586902399999999.\u001b[0m\n",
      "\u001b[32m[I 2022-01-31 12:13:32,180]\u001b[0m Trial 42 finished with value: 0.55489722 and parameters: {'subsample': 0.5825869827883887, 'colsample_bytree': 0.8615622042387702, 'alpha': 8.310279056299175, 'lambda': 6.446714046467861}. Best is trial 31 with value: 0.5586902399999999.\u001b[0m\n",
      "\u001b[32m[I 2022-01-31 12:13:33,804]\u001b[0m Trial 43 finished with value: 0.5588856200000001 and parameters: {'subsample': 0.7317737344702202, 'colsample_bytree': 0.9276011442228465, 'alpha': 4.710603645575705, 'lambda': 20.53290326908413}. Best is trial 43 with value: 0.5588856200000001.\u001b[0m\n",
      "\u001b[32m[I 2022-01-31 12:13:35,408]\u001b[0m Trial 44 finished with value: 0.5554151 and parameters: {'subsample': 0.7356551379025328, 'colsample_bytree': 0.9609148613724895, 'alpha': 17.963228111695017, 'lambda': 16.40633353486529}. Best is trial 43 with value: 0.5588856200000001.\u001b[0m\n",
      "\u001b[32m[I 2022-01-31 12:13:35,890]\u001b[0m Trial 45 finished with value: 0.5133489199999999 and parameters: {'subsample': 0.8301656148371175, 'colsample_bytree': 0.01024985173614723, 'alpha': 4.748888234935067, 'lambda': 19.955664698156735}. Best is trial 43 with value: 0.5588856200000001.\u001b[0m\n",
      "\u001b[32m[I 2022-01-31 12:13:37,535]\u001b[0m Trial 46 finished with value: 0.5577755600000001 and parameters: {'subsample': 0.7652420244448986, 'colsample_bytree': 0.9212222346809567, 'alpha': 2.417816875005718, 'lambda': 31.162239609796895}. Best is trial 43 with value: 0.5588856200000001.\u001b[0m\n",
      "\u001b[32m[I 2022-01-31 12:13:39,138]\u001b[0m Trial 47 finished with value: 0.5566597400000001 and parameters: {'subsample': 0.793066002873542, 'colsample_bytree': 0.9246702476734661, 'alpha': 2.579392535342947, 'lambda': 33.62139633921433}. Best is trial 43 with value: 0.5588856200000001.\u001b[0m\n",
      "\u001b[32m[I 2022-01-31 12:13:40,551]\u001b[0m Trial 48 finished with value: 0.5567190999999999 and parameters: {'subsample': 0.8300607018752271, 'colsample_bytree': 0.7320252995707839, 'alpha': 2.4703704998261884, 'lambda': 44.964503610711404}. Best is trial 43 with value: 0.5588856200000001.\u001b[0m\n",
      "\u001b[32m[I 2022-01-31 12:13:41,876]\u001b[0m Trial 49 finished with value: 0.5404941400000001 and parameters: {'subsample': 0.831232602498588, 'colsample_bytree': 0.7230065554636187, 'alpha': 71.06551430718079, 'lambda': 46.63903261741488}. Best is trial 43 with value: 0.5588856200000001.\u001b[0m\n"
     ]
    },
    {
     "name": "stdout",
     "output_type": "stream",
     "text": [
      "Best trial:\n",
      "{'subsample': 0.7317737344702202, 'colsample_bytree': 0.9276011442228465, 'alpha': 4.710603645575705, 'lambda': 20.53290326908413}\n"
     ]
    }
   ],
   "source": [
    "def xgb_objective(trial):       \n",
    "    params_dynamic = {   \n",
    "        \"subsample\": trial.suggest_uniform(\"subsample\", 0, 1),\n",
    "        \"colsample_bytree\": trial.suggest_uniform(\"colsample_bytree\", 0, 1),        \n",
    "        \"alpha\": trial.suggest_uniform(\"alpha\", 1e-2, 100),        \n",
    "        \"lambda\": trial.suggest_uniform(\"lambda\", 1e-2, 100),        \n",
    "    }\n",
    "    params_static = {        \n",
    "        \"objective\":\"binary:logistic\",\n",
    "        \"n_jobs\": 8,\n",
    "        \"seed\": 42,\n",
    "        'tree_method': \"auto\",        \n",
    "        \"eval_metric\": \"auc\",\n",
    "        \"verbose\": 0,\n",
    "        \"early_stopping_rounds\": 200,\n",
    "        \"nrounds\": 10000,\n",
    "        \"max_depth\": 6,\n",
    "        \"max_leaves\": 160        \n",
    "    }    \n",
    "    params = {**params_dynamic, **params_static}        \n",
    "    # Add a callback for pruning.\n",
    "    #pruning_callback = optuna.integration.XGBoostPruningCallback(trial, \"test-auc\")    \n",
    "    # fold_auc = []\n",
    "    # for fold in range(Config.NUM_FOLDS):\n",
    "    #     train_X, train_y, val_X, val_y = get_fold_data(fold, df_train)\n",
    "    #     #auc_score, _, _ = run_training(train_X, train_y, val_X, val_y, params, callbacks=[pruning_callback])\n",
    "    #     auc_score, _, _ = run_training(train_X, train_y, val_X, val_y, params)\n",
    "    #     print(f\"fold{fold} auc={auc_score}\")\n",
    "    #     fold_auc.append(auc_score)\n",
    "    # mean_auc = np.mean(fold_auc)   \n",
    "    # print(f\"mean_auc = {mean_auc}\")             \n",
    "    # return mean_auc\n",
    "\n",
    "\n",
    "    train_y = df_train[Config.TARGET_COL_NAME]\n",
    "    train_data = xgb.DMatrix(data=df_train[col_names], label=train_y, feature_names=col_names)\n",
    "    result = xgb.cv(\n",
    "                params,\n",
    "                dtrain = train_data,                \n",
    "                nfold = Config.NUM_FOLDS,\n",
    "                stratified = True,\n",
    "                shuffle = True,\n",
    "                seed = Config.RANDOM_SEED,                \n",
    "                verbose_eval = 0,\n",
    "                metrics=[\"auc\"]\n",
    "                #,callbacks=[pruning_callback]\n",
    "            )\n",
    "    #print(result)            \n",
    "    mean_auc = np.mean(result[\"test-auc-mean\"])\n",
    "    return mean_auc\n",
    "\n",
    "#study = optuna.create_study(pruner=optuna.pruners.MedianPruner(n_warmup_steps=10), direction=\"maximize\", study_name=\"LGBMModelTuning\")    \n",
    "study = optuna.create_study(direction=\"maximize\", study_name=\"LGBMModelTuning\")    \n",
    "study.optimize(xgb_objective, n_trials=50)\n",
    "print(\"Best trial:\")\n",
    "print(study.best_params)"
   ]
  },
  {
   "cell_type": "code",
   "execution_count": 62,
   "metadata": {},
   "outputs": [
    {
     "name": "stdout",
     "output_type": "stream",
     "text": [
      "fold0 auc_score = 0.5690644092820856\n",
      "fold1 auc_score = 0.5722741861763401\n",
      "fold2 auc_score = 0.5822564938076711\n",
      "fold3 auc_score = 0.5789253361803036\n",
      "fold4 auc_score = 0.5760579918402593\n"
     ]
    }
   ],
   "source": [
    "fold_metrics_model = []\n",
    "fold_test_preds = []\n",
    "model_params = {\n",
    "        \"n_estimators\": 10000,\n",
    "        \"max_depth\": 6,\n",
    "        \"max_leaves\": 160,\n",
    "        \"objective\":\"binary:logistic\",\n",
    "        \"n_jobs\": 8,\n",
    "        \"seed\": 42,\n",
    "        'tree_method': \"auto\",        \n",
    "        \"eval_metric\": \"auc\", \n",
    "        #\"subsample\": 0.7,\n",
    "        \"subsample\": 0.73,\n",
    "        #\"colsample_bytree\": 0.7,\n",
    "        \"colsample_bytree\": 0.92,\n",
    "        \"alpha\": 4.7,\n",
    "        \"lambda\": 20,\n",
    "        \"learning_rate\": 0.01,        \n",
    "        \"early_stopping_rounds\": 500,\n",
    "        \"verbose\": 0\n",
    "    }    \n",
    "for fold in range(Config.NUM_FOLDS):\n",
    "    X_train, y_train, X_val, y_val = get_fold_data(fold, df_train)\n",
    "    callbacks = [xgb.callback.EarlyStopping(rounds=model_params[\"early_stopping_rounds\"], save_best=True)]    \n",
    "    fold_auc_score, model, fold_val_pred = run_training(X_train, y_train, X_val, y_val, params=model_params, callbacks=callbacks)\n",
    "    print(f\"fold{fold} auc_score = {fold_auc_score}\")\n",
    "    fold_metrics_model.append((round(fold_auc_score, 4), model))\n"
   ]
  },
  {
   "cell_type": "code",
   "execution_count": 63,
   "metadata": {},
   "outputs": [
    {
     "name": "stdout",
     "output_type": "stream",
     "text": [
      "[0.5691, 0.5723, 0.5823, 0.5789, 0.5761]\n",
      "mean auc across folds = 0.5757399999999999\n"
     ]
    }
   ],
   "source": [
    "fold_metrics = [item[0] for item in fold_metrics_model]\n",
    "print(fold_metrics)    \n",
    "mean_auc = np.mean(fold_metrics)\n",
    "print(f\"mean auc across folds = {mean_auc}\")"
   ]
  },
  {
   "cell_type": "code",
   "execution_count": 64,
   "metadata": {},
   "outputs": [
    {
     "data": {
      "text/plain": [
       "<AxesSubplot:title={'center':'Feature importance'}, xlabel='F score', ylabel='Features'>"
      ]
     },
     "execution_count": 64,
     "metadata": {},
     "output_type": "execute_result"
    },
    {
     "data": {
      "image/png": "[encoded data removed]",
      "text/plain": [
       "<Figure size 720x1008 with 1 Axes>"
      ]
     },
     "metadata": {
      "needs_background": "light"
     },
     "output_type": "display_data"
    }
   ],
   "source": [
    "import xgboost\n",
    "import matplotlib.pyplot as plt\n",
    "\n",
    "def plot_features(booster, figsize):    \n",
    "    fig, ax = plt.subplots(1,1,figsize=figsize)\n",
    "    return xgboost.plot_importance(booster=booster, ax=ax)\n",
    "\n",
    "fold_metrics_model_sorted = sorted(fold_metrics_model, key=lambda x:x[0], reverse=True) \n",
    "best_model = fold_metrics_model_sorted[0][1]\n",
    "plot_features(best_model, (10, 14))"
   ]
  },
  {
   "cell_type": "code",
   "execution_count": 65,
   "metadata": {},
   "outputs": [],
   "source": [
    "df_train[\"song_popularity_proba\"] = 0.0\n",
    "test_preds = {}\n",
    "for fold in range(Config.NUM_FOLDS):\n",
    "    model = fold_metrics_model[fold][1]\n",
    "    train_df, train_y, val_df, val_y = get_fold_data(fold, df_train) \n",
    "    test_df = get_input_features(df_test)       \n",
    "    # add the validation probability predictions for the fold to a new column in train data\n",
    "    fold_val_preds = model.predict_proba(val_df)[:,1]\n",
    "    fold_test_preds = model.predict_proba(test_df)[:,1]\n",
    "    df_train.loc[df_train.kfold == fold, \"song_popularity_proba\"] = fold_val_preds\n",
    "    pred_col_name = f\"fold_{fold}_test_preds\"\n",
    "    test_preds[pred_col_name] = fold_test_preds "
   ]
  },
  {
   "cell_type": "code",
   "execution_count": 66,
   "metadata": {},
   "outputs": [
    {
     "name": "stdout",
     "output_type": "stream",
     "text": [
      "Completed prediction for 10000 test rows\n"
     ]
    },
    {
     "data": {
      "text/html": [
       "<div>\n",
       "<style scoped>\n",
       "    .dataframe tbody tr th:only-of-type {\n",
       "        vertical-align: middle;\n",
       "    }\n",
       "\n",
       "    .dataframe tbody tr th {\n",
       "        vertical-align: top;\n",
       "    }\n",
       "\n",
       "    .dataframe thead th {\n",
       "        text-align: right;\n",
       "    }\n",
       "</style>\n",
       "<table border=\"1\" class=\"dataframe\">\n",
       "  <thead>\n",
       "    <tr style=\"text-align: right;\">\n",
       "      <th></th>\n",
       "      <th>id</th>\n",
       "      <th>song_popularity</th>\n",
       "    </tr>\n",
       "  </thead>\n",
       "  <tbody>\n",
       "    <tr>\n",
       "      <th>0</th>\n",
       "      <td>0</td>\n",
       "      <td>0.440202</td>\n",
       "    </tr>\n",
       "    <tr>\n",
       "      <th>1</th>\n",
       "      <td>1</td>\n",
       "      <td>0.470073</td>\n",
       "    </tr>\n",
       "    <tr>\n",
       "      <th>2</th>\n",
       "      <td>2</td>\n",
       "      <td>0.261606</td>\n",
       "    </tr>\n",
       "    <tr>\n",
       "      <th>3</th>\n",
       "      <td>3</td>\n",
       "      <td>0.339572</td>\n",
       "    </tr>\n",
       "    <tr>\n",
       "      <th>4</th>\n",
       "      <td>4</td>\n",
       "      <td>0.351730</td>\n",
       "    </tr>\n",
       "  </tbody>\n",
       "</table>\n",
       "</div>"
      ],
      "text/plain": [
       "   id  song_popularity\n",
       "0   0         0.440202\n",
       "1   1         0.470073\n",
       "2   2         0.261606\n",
       "3   3         0.339572\n",
       "4   4         0.351730"
      ]
     },
     "execution_count": 66,
     "metadata": {},
     "output_type": "execute_result"
    }
   ],
   "source": [
    "df_test_preds = pd.DataFrame(test_preds)\n",
    "test_pred_cols = [f\"fold_{fold}_test_preds\" for fold in range(Config.NUM_FOLDS)]\n",
    "df_test_preds[\"mean_test_pred\"] = df_test_preds[test_pred_cols].mean(axis=1)\n",
    "print(f\"Completed prediction for {len(df_test)} test rows\")\n",
    "df_submission = pd.read_csv(DATA_PATH + 'sample_submission.csv')\n",
    "df_submission['song_popularity']= df_test_preds[\"mean_test_pred\"]\n",
    "df_submission.to_csv('submission_xgb.csv',index=False)\n",
    "df_submission.head()"
   ]
  },
  {
   "cell_type": "code",
   "execution_count": 67,
   "metadata": {},
   "outputs": [
    {
     "name": "stdout",
     "output_type": "stream",
     "text": [
      "Saved validation predictions for all folds to csv\n"
     ]
    }
   ],
   "source": [
    "xgb_val_preds = df_train[[\"id\", \"song_popularity_proba\", \"song_popularity\"]]\n",
    "xgb_val_preds.to_csv(\"xgb_val_preds.csv\")\n",
    "print(\"Saved validation predictions for all folds to csv\")"
   ]
  },
  {
   "cell_type": "code",
   "execution_count": 68,
   "metadata": {},
   "outputs": [
    {
     "data": {
      "text/html": [
       "<div>\n",
       "<style scoped>\n",
       "    .dataframe tbody tr th:only-of-type {\n",
       "        vertical-align: middle;\n",
       "    }\n",
       "\n",
       "    .dataframe tbody tr th {\n",
       "        vertical-align: top;\n",
       "    }\n",
       "\n",
       "    .dataframe thead th {\n",
       "        text-align: right;\n",
       "    }\n",
       "</style>\n",
       "<table border=\"1\" class=\"dataframe\">\n",
       "  <thead>\n",
       "    <tr style=\"text-align: right;\">\n",
       "      <th></th>\n",
       "      <th>id</th>\n",
       "      <th>song_popularity</th>\n",
       "    </tr>\n",
       "  </thead>\n",
       "  <tbody>\n",
       "    <tr>\n",
       "      <th>168</th>\n",
       "      <td>168</td>\n",
       "      <td>0.509629</td>\n",
       "    </tr>\n",
       "    <tr>\n",
       "      <th>189</th>\n",
       "      <td>189</td>\n",
       "      <td>0.523912</td>\n",
       "    </tr>\n",
       "    <tr>\n",
       "      <th>249</th>\n",
       "      <td>249</td>\n",
       "      <td>0.516633</td>\n",
       "    </tr>\n",
       "    <tr>\n",
       "      <th>254</th>\n",
       "      <td>254</td>\n",
       "      <td>0.537297</td>\n",
       "    </tr>\n",
       "    <tr>\n",
       "      <th>326</th>\n",
       "      <td>326</td>\n",
       "      <td>0.514407</td>\n",
       "    </tr>\n",
       "    <tr>\n",
       "      <th>...</th>\n",
       "      <td>...</td>\n",
       "      <td>...</td>\n",
       "    </tr>\n",
       "    <tr>\n",
       "      <th>9760</th>\n",
       "      <td>9760</td>\n",
       "      <td>0.528037</td>\n",
       "    </tr>\n",
       "    <tr>\n",
       "      <th>9780</th>\n",
       "      <td>9780</td>\n",
       "      <td>0.526703</td>\n",
       "    </tr>\n",
       "    <tr>\n",
       "      <th>9821</th>\n",
       "      <td>9821</td>\n",
       "      <td>0.506579</td>\n",
       "    </tr>\n",
       "    <tr>\n",
       "      <th>9906</th>\n",
       "      <td>9906</td>\n",
       "      <td>0.520884</td>\n",
       "    </tr>\n",
       "    <tr>\n",
       "      <th>9988</th>\n",
       "      <td>9988</td>\n",
       "      <td>0.511286</td>\n",
       "    </tr>\n",
       "  </tbody>\n",
       "</table>\n",
       "<p>225 rows × 2 columns</p>\n",
       "</div>"
      ],
      "text/plain": [
       "        id  song_popularity\n",
       "168    168         0.509629\n",
       "189    189         0.523912\n",
       "249    249         0.516633\n",
       "254    254         0.537297\n",
       "326    326         0.514407\n",
       "...    ...              ...\n",
       "9760  9760         0.528037\n",
       "9780  9780         0.526703\n",
       "9821  9821         0.506579\n",
       "9906  9906         0.520884\n",
       "9988  9988         0.511286\n",
       "\n",
       "[225 rows x 2 columns]"
      ]
     },
     "execution_count": 68,
     "metadata": {},
     "output_type": "execute_result"
    }
   ],
   "source": [
    "df_submission[df_submission.song_popularity > 0.5]"
   ]
  }
 ],
 "metadata": {
  "interpreter": {
   "hash": "0197751694b00855cd01780d565fa2e16f7945f624c4146f8d6aac863c2ba178"
  },
  "kernelspec": {
   "display_name": "Python 3.9.7 64-bit ('fastai': conda)",
   "language": "python",
   "name": "python3"
  },
  "language_info": {
   "codemirror_mode": {
    "name": "ipython",
    "version": 3
   },
   "file_extension": ".py",
   "mimetype": "text/x-python",
   "name": "python",
   "nbconvert_exporter": "python",
   "pygments_lexer": "ipython3",
   "version": "3.9.7"
  },
  "orig_nbformat": 4
 },
 "nbformat": 4,
 "nbformat_minor": 2
}
