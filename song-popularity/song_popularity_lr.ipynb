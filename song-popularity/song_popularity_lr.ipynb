{
 "cells": [
  {
   "cell_type": "code",
   "execution_count": 101,
   "metadata": {},
   "outputs": [],
   "source": [
    "import pandas as pd\n",
    "import numpy as np\n",
    "from sklearn import model_selection\n",
    "from sklearn.preprocessing import OneHotEncoder, StandardScaler\n",
    "from sklearn.impute import SimpleImputer\n",
    "from sklearn.linear_model import LogisticRegression\n",
    "from sklearn.metrics import roc_auc_score\n",
    "import warnings\n",
    "\n",
    "warnings.filterwarnings('ignore')"
   ]
  },
  {
   "cell_type": "code",
   "execution_count": 102,
   "metadata": {},
   "outputs": [],
   "source": [
    "class Config:\n",
    "    RANDOM_SEED = 13\n",
    "    NUM_FOLDS = 5\n",
    "    TARGET_COL_NAME = \"song_popularity\"\n",
    "    CATEGORICAL_COLS = [\"audio_mode\", \"time_signature\", \"key\"]\n",
    "\n",
    "DATA_PATH = \"./data/\""
   ]
  },
  {
   "cell_type": "code",
   "execution_count": 103,
   "metadata": {},
   "outputs": [],
   "source": [
    "df_train = pd.read_csv(DATA_PATH + \"train.csv\")\n",
    "df_test = pd.read_csv(DATA_PATH + \"test.csv\")"
   ]
  },
  {
   "cell_type": "code",
   "execution_count": 104,
   "metadata": {},
   "outputs": [
    {
     "data": {
      "text/html": [
       "<div>\n",
       "<style scoped>\n",
       "    .dataframe tbody tr th:only-of-type {\n",
       "        vertical-align: middle;\n",
       "    }\n",
       "\n",
       "    .dataframe tbody tr th {\n",
       "        vertical-align: top;\n",
       "    }\n",
       "\n",
       "    .dataframe thead th {\n",
       "        text-align: right;\n",
       "    }\n",
       "</style>\n",
       "<table border=\"1\" class=\"dataframe\">\n",
       "  <thead>\n",
       "    <tr style=\"text-align: right;\">\n",
       "      <th></th>\n",
       "      <th>id</th>\n",
       "      <th>song_duration_ms</th>\n",
       "      <th>acousticness</th>\n",
       "      <th>danceability</th>\n",
       "      <th>energy</th>\n",
       "      <th>instrumentalness</th>\n",
       "      <th>key</th>\n",
       "      <th>liveness</th>\n",
       "      <th>loudness</th>\n",
       "      <th>audio_mode</th>\n",
       "      <th>speechiness</th>\n",
       "      <th>tempo</th>\n",
       "      <th>time_signature</th>\n",
       "      <th>audio_valence</th>\n",
       "      <th>song_popularity</th>\n",
       "      <th>kfold</th>\n",
       "    </tr>\n",
       "  </thead>\n",
       "  <tbody>\n",
       "    <tr>\n",
       "      <th>0</th>\n",
       "      <td>37020</td>\n",
       "      <td>241605.0</td>\n",
       "      <td>0.043564</td>\n",
       "      <td>0.668579</td>\n",
       "      <td>0.940644</td>\n",
       "      <td>0.001371</td>\n",
       "      <td>5.0</td>\n",
       "      <td>0.660077</td>\n",
       "      <td>-5.334750</td>\n",
       "      <td>1</td>\n",
       "      <td>0.098402</td>\n",
       "      <td>145.488755</td>\n",
       "      <td>3</td>\n",
       "      <td>0.752138</td>\n",
       "      <td>0</td>\n",
       "      <td>4</td>\n",
       "    </tr>\n",
       "    <tr>\n",
       "      <th>1</th>\n",
       "      <td>5531</td>\n",
       "      <td>NaN</td>\n",
       "      <td>0.136844</td>\n",
       "      <td>0.857481</td>\n",
       "      <td>0.780121</td>\n",
       "      <td>0.003005</td>\n",
       "      <td>5.0</td>\n",
       "      <td>0.200062</td>\n",
       "      <td>-12.289020</td>\n",
       "      <td>0</td>\n",
       "      <td>0.040943</td>\n",
       "      <td>122.209006</td>\n",
       "      <td>3</td>\n",
       "      <td>0.747739</td>\n",
       "      <td>1</td>\n",
       "      <td>4</td>\n",
       "    </tr>\n",
       "    <tr>\n",
       "      <th>2</th>\n",
       "      <td>15625</td>\n",
       "      <td>181809.0</td>\n",
       "      <td>0.176350</td>\n",
       "      <td>0.722215</td>\n",
       "      <td>0.904362</td>\n",
       "      <td>0.000554</td>\n",
       "      <td>8.0</td>\n",
       "      <td>0.094481</td>\n",
       "      <td>-4.299832</td>\n",
       "      <td>0</td>\n",
       "      <td>0.061723</td>\n",
       "      <td>119.554958</td>\n",
       "      <td>4</td>\n",
       "      <td>0.648478</td>\n",
       "      <td>0</td>\n",
       "      <td>2</td>\n",
       "    </tr>\n",
       "    <tr>\n",
       "      <th>3</th>\n",
       "      <td>10671</td>\n",
       "      <td>167442.0</td>\n",
       "      <td>NaN</td>\n",
       "      <td>0.354930</td>\n",
       "      <td>0.496588</td>\n",
       "      <td>0.000845</td>\n",
       "      <td>8.0</td>\n",
       "      <td>0.112777</td>\n",
       "      <td>-13.174818</td>\n",
       "      <td>0</td>\n",
       "      <td>0.042100</td>\n",
       "      <td>106.928615</td>\n",
       "      <td>3</td>\n",
       "      <td>0.531688</td>\n",
       "      <td>1</td>\n",
       "      <td>2</td>\n",
       "    </tr>\n",
       "    <tr>\n",
       "      <th>4</th>\n",
       "      <td>4393</td>\n",
       "      <td>164342.0</td>\n",
       "      <td>0.112951</td>\n",
       "      <td>0.633773</td>\n",
       "      <td>0.922505</td>\n",
       "      <td>0.004053</td>\n",
       "      <td>5.0</td>\n",
       "      <td>0.141997</td>\n",
       "      <td>-5.169450</td>\n",
       "      <td>0</td>\n",
       "      <td>0.036036</td>\n",
       "      <td>126.757199</td>\n",
       "      <td>4</td>\n",
       "      <td>0.661839</td>\n",
       "      <td>0</td>\n",
       "      <td>1</td>\n",
       "    </tr>\n",
       "  </tbody>\n",
       "</table>\n",
       "</div>"
      ],
      "text/plain": [
       "      id  song_duration_ms  acousticness  danceability    energy  \\\n",
       "0  37020          241605.0      0.043564      0.668579  0.940644   \n",
       "1   5531               NaN      0.136844      0.857481  0.780121   \n",
       "2  15625          181809.0      0.176350      0.722215  0.904362   \n",
       "3  10671          167442.0           NaN      0.354930  0.496588   \n",
       "4   4393          164342.0      0.112951      0.633773  0.922505   \n",
       "\n",
       "   instrumentalness  key  liveness   loudness  audio_mode  speechiness  \\\n",
       "0          0.001371  5.0  0.660077  -5.334750           1     0.098402   \n",
       "1          0.003005  5.0  0.200062 -12.289020           0     0.040943   \n",
       "2          0.000554  8.0  0.094481  -4.299832           0     0.061723   \n",
       "3          0.000845  8.0  0.112777 -13.174818           0     0.042100   \n",
       "4          0.004053  5.0  0.141997  -5.169450           0     0.036036   \n",
       "\n",
       "        tempo  time_signature  audio_valence  song_popularity  kfold  \n",
       "0  145.488755               3       0.752138                0      4  \n",
       "1  122.209006               3       0.747739                1      4  \n",
       "2  119.554958               4       0.648478                0      2  \n",
       "3  106.928615               3       0.531688                1      2  \n",
       "4  126.757199               4       0.661839                0      1  "
      ]
     },
     "execution_count": 104,
     "metadata": {},
     "output_type": "execute_result"
    }
   ],
   "source": [
    "# split the training dataframe into kfolds for cross validation. We do this before any processing is done\n",
    "# on the data. We use stratified kfold if the target distribution is unbalanced\n",
    "def strat_kfold_dataframe(df, target_col_name, num_folds=5):\n",
    "    # we create a new column called kfold and fill it with -1\n",
    "    df[\"kfold\"] = -1\n",
    "    # randomize of shuffle the rows of dataframe before splitting is done\n",
    "    df = df.sample(frac=1, random_state=Config.RANDOM_SEED).reset_index(drop=True)\n",
    "    # get the target data\n",
    "    y = df[target_col_name].values\n",
    "    skf = model_selection.StratifiedKFold(n_splits=num_folds, shuffle=True, random_state=42)\n",
    "    for fold, (train_index, val_index) in enumerate(skf.split(X=df, y=y)):\n",
    "        df.loc[val_index, \"kfold\"] = fold    \n",
    "    return df     \n",
    "\n",
    "df_train = strat_kfold_dataframe(df_train, target_col_name=Config.TARGET_COL_NAME)\n",
    "df_train.head()"
   ]
  },
  {
   "cell_type": "code",
   "execution_count": 105,
   "metadata": {},
   "outputs": [],
   "source": [
    "cont_cols = ['song_duration_ms', 'acousticness', 'danceability', 'energy', \n",
    "            'instrumentalness', 'liveness', 'loudness', 'speechiness', 'tempo', 'audio_valence']"
   ]
  },
  {
   "cell_type": "code",
   "execution_count": 106,
   "metadata": {},
   "outputs": [],
   "source": [
    "def impute_df_col(df, col_name, imputer):\n",
    "    imputed_col = imputer.fit_transform(df[col_name].to_numpy().reshape(-1, 1))\n",
    "    return pd.Series(imputed_col.reshape(-1))    "
   ]
  },
  {
   "cell_type": "code",
   "execution_count": 107,
   "metadata": {},
   "outputs": [],
   "source": [
    "def impute_missing_values(df, cols, col_type=\"cont\"):    \n",
    "    if col_type == \"cont\":\n",
    "        imputer = SimpleImputer(missing_values=np.nan, strategy=\"mean\")\n",
    "    elif col_type == \"cat\":\n",
    "        imputer = SimpleImputer(missing_values=np.nan, strategy=\"most_frequent\")            \n",
    "    for col in cols:\n",
    "        df[col] = impute_df_col(df, col, imputer)\n",
    "    return df\n",
    "\n",
    "df_train = impute_missing_values(df_train, Config.CATEGORICAL_COLS, col_type=\"cat\")\n",
    "df_train = impute_missing_values(df_train, cont_cols, col_type=\"cont\")\n",
    "df_test = impute_missing_values(df_test, Config.CATEGORICAL_COLS, col_type=\"cat\")\n",
    "df_test = impute_missing_values(df_test, cont_cols, col_type=\"cont\")"
   ]
  },
  {
   "cell_type": "code",
   "execution_count": 108,
   "metadata": {},
   "outputs": [
    {
     "data": {
      "text/plain": [
       "[]"
      ]
     },
     "execution_count": 108,
     "metadata": {},
     "output_type": "execute_result"
    }
   ],
   "source": [
    "[col for col in df_train.columns if df_train[col].isnull().any()]"
   ]
  },
  {
   "cell_type": "code",
   "execution_count": 109,
   "metadata": {},
   "outputs": [
    {
     "data": {
      "text/plain": [
       "[]"
      ]
     },
     "execution_count": 109,
     "metadata": {},
     "output_type": "execute_result"
    }
   ],
   "source": [
    "[col for col in df_test.columns if df_test[col].isnull().any()]"
   ]
  },
  {
   "cell_type": "code",
   "execution_count": 110,
   "metadata": {},
   "outputs": [],
   "source": [
    "def col_one_hot_encode(df, cols):    \n",
    "    one_hot_enc = OneHotEncoder(handle_unknown=\"ignore\", sparse=False)\n",
    "    one_hot_enc.fit(df[cols])\n",
    "    return one_hot_enc.transform(df[cols])"
   ]
  },
  {
   "cell_type": "code",
   "execution_count": 111,
   "metadata": {},
   "outputs": [],
   "source": [
    "def get_input_features(df):\n",
    "    non_cont_cols = Config.CATEGORICAL_COLS + [\"id\", \"kfold\", Config.TARGET_COL_NAME]\n",
    "    cont_col_names = [item for item in df.columns.values.tolist() if item not in non_cont_cols]     \n",
    "    X_cont = df[cont_col_names].to_numpy()       \n",
    "    X_cat_one_hot = col_one_hot_encode(df, Config.CATEGORICAL_COLS)    \n",
    "    X = np.concatenate((X_cont, X_cat_one_hot), axis=1)    \n",
    "    return X\n",
    "\n",
    "def get_fold_data(fold, df):\n",
    "    df_train = df[df.kfold != fold]\n",
    "    df_val = df[df.kfold == fold]\n",
    "    X_train = get_input_features(df_train)\n",
    "    y_train = df_train[Config.TARGET_COL_NAME].to_numpy()\n",
    "    X_val = get_input_features(df_val)\n",
    "    y_val = df_val[Config.TARGET_COL_NAME].to_numpy()\n",
    "    return X_train, y_train, X_val, y_val"
   ]
  },
  {
   "cell_type": "code",
   "execution_count": 112,
   "metadata": {},
   "outputs": [],
   "source": [
    "def run_training(train_X, train_y, val_X, val_y, params=None):\n",
    "    # Create the SVC model\n",
    "    model = LogisticRegression(solver=\"lbfgs\", n_jobs=-1, max_iter=200, C=params[\"C\"], penalty=params[\"penalty\"])\n",
    "    scaler = StandardScaler()\n",
    "    train_X_scaled = scaler.fit_transform(train_X)    \n",
    "    val_X_scaled = scaler.fit_transform(val_X)    \n",
    "    model.fit(train_X_scaled, train_y.ravel())\n",
    "    val_y_pred_proba = model.predict_proba(val_X_scaled)\n",
    "    return roc_auc_score(val_y, val_y_pred_proba[:, 1], average=\"weighted\"), model"
   ]
  },
  {
   "cell_type": "code",
   "execution_count": 113,
   "metadata": {},
   "outputs": [],
   "source": [
    "# import optuna\n",
    "\n",
    "# train_X, train_y, val_X, val_y = get_fold_data(0, df_train)\n",
    "\n",
    "# def objective(trial):   \n",
    "#     penalty = ['l1', 'l2']\n",
    "#     params = {        \n",
    "#         \"C\": trial.suggest_loguniform(\"C\", 1e-3, 1),\n",
    "#         \"penalty\": trial.suggest_categorical(\"penalty\", penalty)\n",
    "#     }\n",
    "#     auc_score, _ = run_training(train_X, train_y, val_X, val_y, params)\n",
    "#     trial_num = trial.number\n",
    "#     print(f\"auc score at end of trial {trial_num} execution = {auc_score}\")\n",
    "#     print(f\"trial {trial_num} params = {trial.params}\")\n",
    "#     return auc_score\n",
    "\n",
    "# study = optuna.create_study(direction=\"maximize\", study_name=\"ModelTuning\")    \n",
    "# study.optimize(objective, n_trials=15)\n",
    "# print(\"Best trial:\")\n",
    "# print(study.best_params)"
   ]
  },
  {
   "cell_type": "code",
   "execution_count": 114,
   "metadata": {},
   "outputs": [
    {
     "name": "stdout",
     "output_type": "stream",
     "text": [
      "[0.5541, 0.5492, 0.5538, 0.5421, 0.5505]\n"
     ]
    }
   ],
   "source": [
    "fold_metrics_model = []\n",
    "model_params = {'C': 1.0, 'penalty': 'l2'}\n",
    "for fold in range(Config.NUM_FOLDS):\n",
    "    X_train, y_train, X_val, y_val = get_fold_data(fold, df_train)\n",
    "    fold_auc_score, model = run_training(X_train, y_train, X_val, y_val, params=model_params)\n",
    "    fold_metrics_model.append((round(fold_auc_score, 4), model))\n",
    "\n",
    "fold_metrics = [item[0] for item in fold_metrics_model]\n",
    "print(fold_metrics)    "
   ]
  },
  {
   "cell_type": "code",
   "execution_count": 115,
   "metadata": {},
   "outputs": [],
   "source": [
    "fold_metrics_model_sorted = sorted(fold_metrics_model, key=lambda x:x[0], reverse=True) "
   ]
  },
  {
   "cell_type": "code",
   "execution_count": 116,
   "metadata": {},
   "outputs": [
    {
     "name": "stdout",
     "output_type": "stream",
     "text": [
      "LogisticRegression(max_iter=200, n_jobs=-1)\n",
      "Completed prediction for 10000 test rows\n"
     ]
    }
   ],
   "source": [
    "best_model = fold_metrics_model_sorted[0][1]\n",
    "print(best_model)\n",
    "X_test = get_input_features(df_test)\n",
    "scaler = StandardScaler()\n",
    "X_test_scaled = scaler.fit_transform(X_test)\n",
    "predictions = best_model.predict(X_test_scaled)\n",
    "print(f\"Completed prediction for {len(predictions)} test rows\")\n",
    "df_submission = pd.read_csv(DATA_PATH + 'sample_submission.csv')\n",
    "df_submission['song_popularity']= predictions\n",
    "df_submission.to_csv('submission_lr.csv',index=False)"
   ]
  }
 ],
 "metadata": {
  "interpreter": {
   "hash": "0197751694b00855cd01780d565fa2e16f7945f624c4146f8d6aac863c2ba178"
  },
  "kernelspec": {
   "display_name": "Python 3.9.7 64-bit ('fastai': conda)",
   "language": "python",
   "name": "python3"
  },
  "language_info": {
   "codemirror_mode": {
    "name": "ipython",
    "version": 3
   },
   "file_extension": ".py",
   "mimetype": "text/x-python",
   "name": "python",
   "nbconvert_exporter": "python",
   "pygments_lexer": "ipython3",
   "version": "3.9.7"
  },
  "orig_nbformat": 4
 },
 "nbformat": 4,
 "nbformat_minor": 2
}
