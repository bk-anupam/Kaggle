{
 "cells": [
  {
   "cell_type": "code",
   "execution_count": 59,
   "metadata": {},
   "outputs": [],
   "source": [
    "import statistics\n",
    "\n",
    "import pandas as pd\n",
    "import numpy as np\n",
    "from sklearn import model_selection\n",
    "from sklearn.model_selection import cross_val_score\n",
    "from sklearn.preprocessing import OneHotEncoder, StandardScaler\n",
    "from sklearn.impute import SimpleImputer\n",
    "from sklearn.metrics import roc_auc_score\n",
    "import warnings\n",
    "from sklearn.ensemble import RandomForestClassifier\n",
    "\n",
    "warnings.filterwarnings('ignore')"
   ]
  },
  {
   "cell_type": "code",
   "execution_count": 60,
   "metadata": {},
   "outputs": [],
   "source": [
    "class Config:\n",
    "    RANDOM_SEED = 42\n",
    "    NUM_FOLDS = 10\n",
    "    TARGET_COL_NAME = \"song_popularity\"\n",
    "    CATEGORICAL_COLS = [\"audio_mode\", \"time_signature\", \"key\"]\n",
    "\n",
    "DATA_PATH = \"./data/\""
   ]
  },
  {
   "cell_type": "code",
   "execution_count": 61,
   "metadata": {},
   "outputs": [],
   "source": [
    "df_train = pd.read_csv(DATA_PATH + \"train.csv\")\n",
    "df_test = pd.read_csv(DATA_PATH + \"test.csv\")"
   ]
  },
  {
   "cell_type": "code",
   "execution_count": 62,
   "metadata": {},
   "outputs": [
    {
     "data": {
      "text/html": [
       "<div>\n",
       "<style scoped>\n",
       "    .dataframe tbody tr th:only-of-type {\n",
       "        vertical-align: middle;\n",
       "    }\n",
       "\n",
       "    .dataframe tbody tr th {\n",
       "        vertical-align: top;\n",
       "    }\n",
       "\n",
       "    .dataframe thead th {\n",
       "        text-align: right;\n",
       "    }\n",
       "</style>\n",
       "<table border=\"1\" class=\"dataframe\">\n",
       "  <thead>\n",
       "    <tr style=\"text-align: right;\">\n",
       "      <th></th>\n",
       "      <th>id</th>\n",
       "      <th>song_duration_ms</th>\n",
       "      <th>acousticness</th>\n",
       "      <th>danceability</th>\n",
       "      <th>energy</th>\n",
       "      <th>instrumentalness</th>\n",
       "      <th>key</th>\n",
       "      <th>liveness</th>\n",
       "      <th>loudness</th>\n",
       "      <th>audio_mode</th>\n",
       "      <th>speechiness</th>\n",
       "      <th>tempo</th>\n",
       "      <th>time_signature</th>\n",
       "      <th>audio_valence</th>\n",
       "      <th>song_popularity</th>\n",
       "      <th>kfold</th>\n",
       "    </tr>\n",
       "  </thead>\n",
       "  <tbody>\n",
       "    <tr>\n",
       "      <th>0</th>\n",
       "      <td>32823</td>\n",
       "      <td>144667.0</td>\n",
       "      <td>0.585599</td>\n",
       "      <td>0.691626</td>\n",
       "      <td>0.503891</td>\n",
       "      <td>0.222360</td>\n",
       "      <td>10.0</td>\n",
       "      <td>0.115524</td>\n",
       "      <td>-11.642316</td>\n",
       "      <td>0</td>\n",
       "      <td>0.049854</td>\n",
       "      <td>86.041825</td>\n",
       "      <td>3</td>\n",
       "      <td>0.539072</td>\n",
       "      <td>1</td>\n",
       "      <td>8</td>\n",
       "    </tr>\n",
       "    <tr>\n",
       "      <th>1</th>\n",
       "      <td>16298</td>\n",
       "      <td>203954.0</td>\n",
       "      <td>0.016664</td>\n",
       "      <td>0.667695</td>\n",
       "      <td>0.683820</td>\n",
       "      <td>0.001178</td>\n",
       "      <td>4.0</td>\n",
       "      <td>0.213299</td>\n",
       "      <td>NaN</td>\n",
       "      <td>1</td>\n",
       "      <td>0.102933</td>\n",
       "      <td>97.073546</td>\n",
       "      <td>3</td>\n",
       "      <td>0.667166</td>\n",
       "      <td>0</td>\n",
       "      <td>0</td>\n",
       "    </tr>\n",
       "    <tr>\n",
       "      <th>2</th>\n",
       "      <td>28505</td>\n",
       "      <td>179054.0</td>\n",
       "      <td>0.069471</td>\n",
       "      <td>0.624358</td>\n",
       "      <td>0.891436</td>\n",
       "      <td>0.000637</td>\n",
       "      <td>2.0</td>\n",
       "      <td>NaN</td>\n",
       "      <td>NaN</td>\n",
       "      <td>1</td>\n",
       "      <td>0.173795</td>\n",
       "      <td>140.102334</td>\n",
       "      <td>4</td>\n",
       "      <td>0.824423</td>\n",
       "      <td>0</td>\n",
       "      <td>3</td>\n",
       "    </tr>\n",
       "    <tr>\n",
       "      <th>3</th>\n",
       "      <td>6689</td>\n",
       "      <td>246074.0</td>\n",
       "      <td>0.333662</td>\n",
       "      <td>0.645299</td>\n",
       "      <td>0.716589</td>\n",
       "      <td>0.003159</td>\n",
       "      <td>2.0</td>\n",
       "      <td>0.114810</td>\n",
       "      <td>-9.178056</td>\n",
       "      <td>0</td>\n",
       "      <td>0.056690</td>\n",
       "      <td>101.694474</td>\n",
       "      <td>4</td>\n",
       "      <td>0.532739</td>\n",
       "      <td>1</td>\n",
       "      <td>6</td>\n",
       "    </tr>\n",
       "    <tr>\n",
       "      <th>4</th>\n",
       "      <td>26893</td>\n",
       "      <td>282403.0</td>\n",
       "      <td>0.378221</td>\n",
       "      <td>0.258557</td>\n",
       "      <td>0.617000</td>\n",
       "      <td>0.001366</td>\n",
       "      <td>7.0</td>\n",
       "      <td>0.172308</td>\n",
       "      <td>-6.721257</td>\n",
       "      <td>0</td>\n",
       "      <td>0.044904</td>\n",
       "      <td>123.402262</td>\n",
       "      <td>3</td>\n",
       "      <td>0.717549</td>\n",
       "      <td>0</td>\n",
       "      <td>2</td>\n",
       "    </tr>\n",
       "  </tbody>\n",
       "</table>\n",
       "</div>"
      ],
      "text/plain": [
       "      id  song_duration_ms  acousticness  danceability    energy  \\\n",
       "0  32823          144667.0      0.585599      0.691626  0.503891   \n",
       "1  16298          203954.0      0.016664      0.667695  0.683820   \n",
       "2  28505          179054.0      0.069471      0.624358  0.891436   \n",
       "3   6689          246074.0      0.333662      0.645299  0.716589   \n",
       "4  26893          282403.0      0.378221      0.258557  0.617000   \n",
       "\n",
       "   instrumentalness   key  liveness   loudness  audio_mode  speechiness  \\\n",
       "0          0.222360  10.0  0.115524 -11.642316           0     0.049854   \n",
       "1          0.001178   4.0  0.213299        NaN           1     0.102933   \n",
       "2          0.000637   2.0       NaN        NaN           1     0.173795   \n",
       "3          0.003159   2.0  0.114810  -9.178056           0     0.056690   \n",
       "4          0.001366   7.0  0.172308  -6.721257           0     0.044904   \n",
       "\n",
       "        tempo  time_signature  audio_valence  song_popularity  kfold  \n",
       "0   86.041825               3       0.539072                1      8  \n",
       "1   97.073546               3       0.667166                0      0  \n",
       "2  140.102334               4       0.824423                0      3  \n",
       "3  101.694474               4       0.532739                1      6  \n",
       "4  123.402262               3       0.717549                0      2  "
      ]
     },
     "execution_count": 62,
     "metadata": {},
     "output_type": "execute_result"
    }
   ],
   "source": [
    "# split the training dataframe into kfolds for cross validation. We do this before any processing is done\n",
    "# on the data. We use stratified kfold if the target distribution is unbalanced\n",
    "def strat_kfold_dataframe(df, target_col_name, num_folds=5):\n",
    "    # we create a new column called kfold and fill it with -1\n",
    "    df[\"kfold\"] = -1\n",
    "    # randomize of shuffle the rows of dataframe before splitting is done\n",
    "    df = df.sample(frac=1, random_state=Config.RANDOM_SEED).reset_index(drop=True)\n",
    "    # get the target data\n",
    "    y = df[target_col_name].values\n",
    "    skf = model_selection.StratifiedKFold(n_splits=num_folds, shuffle=True, random_state=42)\n",
    "    for fold, (train_index, val_index) in enumerate(skf.split(X=df, y=y)):\n",
    "        df.loc[val_index, \"kfold\"] = fold    \n",
    "    return df     \n",
    "\n",
    "df_train = strat_kfold_dataframe(df_train, target_col_name=Config.TARGET_COL_NAME, num_folds=Config.NUM_FOLDS)\n",
    "df_train.head()"
   ]
  },
  {
   "cell_type": "code",
   "execution_count": 63,
   "metadata": {},
   "outputs": [],
   "source": [
    "cont_cols = ['song_duration_ms', 'acousticness', 'danceability', 'energy', \n",
    "            'instrumentalness', 'liveness', 'loudness', 'speechiness', 'tempo', 'audio_valence']"
   ]
  },
  {
   "cell_type": "code",
   "execution_count": null,
   "metadata": {},
   "outputs": [],
   "source": [
    "def add_missing_col(df, cols_with_nulls):\n",
    "    for col_name in cols_with_nulls:        \n",
    "        df[col_name + \"_missing\"] = [int(item) for item in df[col_name].isna().values]\n",
    "    return df        \n",
    "\n",
    "train_cols_withnulls = [col for col in df_train.columns if df_train[col].isnull().any()]\n",
    "test_cols_withnulls = [col for col in df_test.columns if df_test[col].isnull().any()]\n",
    "df_train = add_missing_col(df_train, train_cols_withnulls)\n",
    "df_test = add_missing_col(df_test, test_cols_withnulls)"
   ]
  },
  {
   "cell_type": "code",
   "execution_count": 64,
   "metadata": {},
   "outputs": [],
   "source": [
    "def impute_df_col(df, col_name, imputer):\n",
    "    imputed_col = imputer.fit_transform(df[col_name].to_numpy().reshape(-1, 1))\n",
    "    return pd.Series(imputed_col.reshape(-1))    "
   ]
  },
  {
   "cell_type": "code",
   "execution_count": 65,
   "metadata": {},
   "outputs": [],
   "source": [
    "def impute_missing_values(df, cols, col_type=\"cont\"):    \n",
    "    if col_type == \"cont\":\n",
    "        imputer = SimpleImputer(missing_values=np.nan, strategy=\"mean\")\n",
    "    elif col_type == \"cat\":\n",
    "        imputer = SimpleImputer(missing_values=np.nan, strategy=\"most_frequent\")            \n",
    "    for col in cols:\n",
    "        df[col] = impute_df_col(df, col, imputer)\n",
    "    return df\n",
    "\n",
    "df_train = impute_missing_values(df_train, Config.CATEGORICAL_COLS, col_type=\"cat\")\n",
    "df_train = impute_missing_values(df_train, cont_cols, col_type=\"cont\")\n",
    "df_test = impute_missing_values(df_test, Config.CATEGORICAL_COLS, col_type=\"cat\")\n",
    "df_test = impute_missing_values(df_test, cont_cols, col_type=\"cont\")"
   ]
  },
  {
   "cell_type": "code",
   "execution_count": 67,
   "metadata": {},
   "outputs": [
    {
     "data": {
      "text/plain": [
       "[]"
      ]
     },
     "execution_count": 67,
     "metadata": {},
     "output_type": "execute_result"
    }
   ],
   "source": [
    "[col for col in df_train.columns if df_train[col].isnull().any()]"
   ]
  },
  {
   "cell_type": "code",
   "execution_count": 68,
   "metadata": {},
   "outputs": [
    {
     "data": {
      "text/plain": [
       "[]"
      ]
     },
     "execution_count": 68,
     "metadata": {},
     "output_type": "execute_result"
    }
   ],
   "source": [
    "[col for col in df_test.columns if df_test[col].isnull().any()]"
   ]
  },
  {
   "cell_type": "code",
   "execution_count": 69,
   "metadata": {},
   "outputs": [],
   "source": [
    "def col_one_hot_encode(df, cols):    \n",
    "    one_hot_enc = OneHotEncoder(handle_unknown=\"ignore\", sparse=False)\n",
    "    one_hot_enc.fit(df[cols])\n",
    "    return one_hot_enc.transform(df[cols])"
   ]
  },
  {
   "cell_type": "code",
   "execution_count": 70,
   "metadata": {},
   "outputs": [],
   "source": [
    "def get_input_features(df):\n",
    "    non_cont_cols = Config.CATEGORICAL_COLS + [\"id\", \"kfold\", \"song_popularity_proba\", Config.TARGET_COL_NAME]\n",
    "    cont_col_names = [item for item in df.columns.values.tolist() if item not in non_cont_cols]     \n",
    "    X_cont = df[cont_col_names].to_numpy()       \n",
    "    X_cat_one_hot = col_one_hot_encode(df, Config.CATEGORICAL_COLS)    \n",
    "    X = np.concatenate((X_cont, X_cat_one_hot), axis=1)    \n",
    "    return X\n",
    "\n",
    "def get_fold_data(fold, df):\n",
    "    df_train = df[df.kfold != fold]\n",
    "    df_val = df[df.kfold == fold]\n",
    "    X_train = get_input_features(df_train)\n",
    "    y_train = df_train[Config.TARGET_COL_NAME].to_numpy()\n",
    "    X_val = get_input_features(df_val)\n",
    "    y_val = df_val[Config.TARGET_COL_NAME].to_numpy()\n",
    "    return X_train, y_train, X_val, y_val"
   ]
  },
  {
   "cell_type": "code",
   "execution_count": 71,
   "metadata": {},
   "outputs": [],
   "source": [
    "def run_training(model, train_X, train_y, val_X, val_y):        \n",
    "    scaler = StandardScaler()\n",
    "    train_X_scaled = scaler.fit_transform(train_X)    \n",
    "    val_X_scaled = scaler.fit_transform(val_X)    \n",
    "    model.fit(train_X_scaled, train_y.ravel())\n",
    "    val_y_pred_proba = model.predict_proba(val_X_scaled)\n",
    "    auc = roc_auc_score(val_y, val_y_pred_proba[:, 1], average=\"weighted\")\n",
    "    return auc, model, val_y_pred_proba[:, 1]"
   ]
  },
  {
   "cell_type": "code",
   "execution_count": 72,
   "metadata": {},
   "outputs": [],
   "source": [
    "# import optuna\n",
    "\n",
    "# def rf_objective(trial):       \n",
    "#     params = {        \n",
    "#         \"n_estimators\": trial.suggest_int(\"n_estimators\", 100, 1000),\n",
    "#         \"max_depth\": trial.suggest_int(\"max_depth\", 4, 20),\n",
    "#         \"min_samples_leaf\": trial.suggest_categorical(\"min_samples_leaf\", [1, 2, 4]),\n",
    "#         \"min_samples_split\": trial.suggest_categorical(\"min_samples_split\", [2, 4, 8]),\n",
    "#         \"max_features\": trial.suggest_categorical(\"max_features\", [\"auto\", \"log2\"])\n",
    "#     }\n",
    "#     rf_model = RandomForestClassifier(\n",
    "#                 n_estimators=params[\"n_estimators\"],                 \n",
    "#                 max_depth=params[\"max_depth\"],\n",
    "#                 min_samples_leaf=params[\"min_samples_leaf\"],\n",
    "#                 min_samples_split=params[\"min_samples_split\"],\n",
    "#                 max_features=params[\"max_features\"],\n",
    "#                 random_state=Config.RANDOM_SEED,\n",
    "#                 n_jobs=-1\n",
    "#             )   \n",
    "\n",
    "#     fold_auc = []\n",
    "#     for fold in range(Config.NUM_FOLDS):\n",
    "#         train_X, train_y, val_X, val_y = get_fold_data(fold, df_train)\n",
    "#         auc_score, _, _ = run_training(rf_model, train_X, train_y, val_X, val_y)\n",
    "#         fold_auc.append(auc_score)\n",
    "#     mean_auc = statistics.mean(fold_auc)                \n",
    "#     return mean_auc\n",
    "\n",
    "# study = optuna.create_study(direction=\"maximize\", study_name=\"RFModelTuning\")    \n",
    "# study.optimize(rf_objective, n_trials=20)\n",
    "# print(\"Best trial:\")\n",
    "# print(study.best_params)"
   ]
  },
  {
   "cell_type": "code",
   "execution_count": 73,
   "metadata": {},
   "outputs": [],
   "source": [
    "# Best trial:\n",
    "# {'n_estimators': 703, 'max_depth': 10, 'min_samples_leaf': 4, 'min_samples_split': 4, 'max_features': 'log2'}"
   ]
  },
  {
   "cell_type": "code",
   "execution_count": 74,
   "metadata": {},
   "outputs": [],
   "source": [
    "rf_model_params = {'n_estimators': 703, 'max_depth': 10, 'min_samples_leaf': 4, 'min_samples_split': 4, 'max_features': 'log2'}\n",
    "#rf_model_params = study.best_params\n",
    "rf_model = RandomForestClassifier(\n",
    "                n_estimators=rf_model_params[\"n_estimators\"],                 \n",
    "                max_depth=rf_model_params[\"max_depth\"],\n",
    "                min_samples_leaf=rf_model_params[\"min_samples_leaf\"],\n",
    "                min_samples_split=rf_model_params[\"min_samples_split\"],\n",
    "                max_features=rf_model_params[\"max_features\"],\n",
    "                random_state=Config.RANDOM_SEED,\n",
    "                n_jobs=-1\n",
    "            )     "
   ]
  },
  {
   "cell_type": "code",
   "execution_count": 75,
   "metadata": {},
   "outputs": [
    {
     "name": "stdout",
     "output_type": "stream",
     "text": [
      "fold 0 auc score = 0.5469573443245384\n",
      "fold 1 auc score = 0.5813191604636079\n",
      "fold 2 auc score = 0.564593566086995\n",
      "fold 3 auc score = 0.5719182480554394\n",
      "fold 4 auc score = 0.5780865006977429\n",
      "fold 5 auc score = 0.5684082179332347\n",
      "fold 6 auc score = 0.572460339673066\n",
      "fold 7 auc score = 0.5756631780998939\n",
      "fold 8 auc score = 0.5708795673914504\n",
      "fold 9 auc score = 0.5723040707382776\n"
     ]
    }
   ],
   "source": [
    "fold_metrics_model = []\n",
    "test_preds = {}\n",
    "df_train[\"song_popularity_proba\"] = 0.0\n",
    "for fold in range(Config.NUM_FOLDS):\n",
    "    X_train, y_train, X_val, y_val = get_fold_data(fold, df_train)\n",
    "    fold_auc_score, model, fold_val_preds = run_training(rf_model, X_train, y_train, X_val, y_val)\n",
    "    print(f\"fold {fold } auc score = {fold_auc_score}\")\n",
    "    # add the validation probability predictions for the fold to a new column in train data\n",
    "    df_train.loc[df_train.kfold == fold, \"song_popularity_proba\"] = fold_val_preds    \n",
    "    X_test = get_input_features(df_test)\n",
    "    scaler = StandardScaler()\n",
    "    X_test_scaled = scaler.fit_transform(X_test)\n",
    "    fold_test_preds = model.predict_proba(X_test_scaled)[:, 1]\n",
    "    pred_col_name = f\"fold_{fold}_test_preds\"\n",
    "    test_preds[pred_col_name] = fold_test_preds    \n",
    "    fold_metrics_model.append((round(fold_auc_score, 4), model))"
   ]
  },
  {
   "cell_type": "code",
   "execution_count": 76,
   "metadata": {},
   "outputs": [
    {
     "name": "stdout",
     "output_type": "stream",
     "text": [
      "auc scores = [0.547, 0.5813, 0.5646, 0.5719, 0.5781, 0.5684, 0.5725, 0.5757, 0.5709, 0.5723]\n",
      "mean auc across folds = 0.57027, auc stdev across folds = 0.009438343781264439\n"
     ]
    }
   ],
   "source": [
    "fold_metrics = [item[0] for item in fold_metrics_model]\n",
    "print(f\"auc scores = {fold_metrics}\")    \n",
    "cv_auc_mean = statistics.mean(fold_metrics)\n",
    "cv_auc_stdev = statistics.stdev(fold_metrics)\n",
    "print(f\"mean auc across folds = {cv_auc_mean}, auc stdev across folds = {cv_auc_stdev}\")"
   ]
  },
  {
   "cell_type": "code",
   "execution_count": 77,
   "metadata": {},
   "outputs": [
    {
     "name": "stdout",
     "output_type": "stream",
     "text": [
      "Completed prediction for 10000 test rows\n"
     ]
    },
    {
     "data": {
      "text/html": [
       "<div>\n",
       "<style scoped>\n",
       "    .dataframe tbody tr th:only-of-type {\n",
       "        vertical-align: middle;\n",
       "    }\n",
       "\n",
       "    .dataframe tbody tr th {\n",
       "        vertical-align: top;\n",
       "    }\n",
       "\n",
       "    .dataframe thead th {\n",
       "        text-align: right;\n",
       "    }\n",
       "</style>\n",
       "<table border=\"1\" class=\"dataframe\">\n",
       "  <thead>\n",
       "    <tr style=\"text-align: right;\">\n",
       "      <th></th>\n",
       "      <th>id</th>\n",
       "      <th>song_popularity</th>\n",
       "    </tr>\n",
       "  </thead>\n",
       "  <tbody>\n",
       "    <tr>\n",
       "      <th>0</th>\n",
       "      <td>0</td>\n",
       "      <td>0.372371</td>\n",
       "    </tr>\n",
       "    <tr>\n",
       "      <th>1</th>\n",
       "      <td>1</td>\n",
       "      <td>0.420812</td>\n",
       "    </tr>\n",
       "    <tr>\n",
       "      <th>2</th>\n",
       "      <td>2</td>\n",
       "      <td>0.326717</td>\n",
       "    </tr>\n",
       "    <tr>\n",
       "      <th>3</th>\n",
       "      <td>3</td>\n",
       "      <td>0.348080</td>\n",
       "    </tr>\n",
       "    <tr>\n",
       "      <th>4</th>\n",
       "      <td>4</td>\n",
       "      <td>0.361492</td>\n",
       "    </tr>\n",
       "  </tbody>\n",
       "</table>\n",
       "</div>"
      ],
      "text/plain": [
       "   id  song_popularity\n",
       "0   0         0.372371\n",
       "1   1         0.420812\n",
       "2   2         0.326717\n",
       "3   3         0.348080\n",
       "4   4         0.361492"
      ]
     },
     "execution_count": 77,
     "metadata": {},
     "output_type": "execute_result"
    }
   ],
   "source": [
    "df_test_preds = pd.DataFrame(test_preds)\n",
    "test_pred_cols = [f\"fold_{fold}_test_preds\" for fold in range(Config.NUM_FOLDS)]\n",
    "df_test_preds[\"mean_test_pred\"] = df_test_preds[test_pred_cols].mean(axis=1)\n",
    "print(f\"Completed prediction for {len(df_test)} test rows\")\n",
    "df_submission = pd.read_csv(DATA_PATH + 'sample_submission.csv')\n",
    "df_submission['song_popularity']= df_test_preds[\"mean_test_pred\"]\n",
    "df_submission.to_csv('submission_rf.csv',index=False)\n",
    "df_submission.head()"
   ]
  },
  {
   "cell_type": "code",
   "execution_count": 78,
   "metadata": {},
   "outputs": [
    {
     "data": {
      "text/html": [
       "<div>\n",
       "<style scoped>\n",
       "    .dataframe tbody tr th:only-of-type {\n",
       "        vertical-align: middle;\n",
       "    }\n",
       "\n",
       "    .dataframe tbody tr th {\n",
       "        vertical-align: top;\n",
       "    }\n",
       "\n",
       "    .dataframe thead th {\n",
       "        text-align: right;\n",
       "    }\n",
       "</style>\n",
       "<table border=\"1\" class=\"dataframe\">\n",
       "  <thead>\n",
       "    <tr style=\"text-align: right;\">\n",
       "      <th></th>\n",
       "      <th>id</th>\n",
       "      <th>song_popularity</th>\n",
       "    </tr>\n",
       "  </thead>\n",
       "  <tbody>\n",
       "    <tr>\n",
       "      <th>1003</th>\n",
       "      <td>1003</td>\n",
       "      <td>0.524419</td>\n",
       "    </tr>\n",
       "    <tr>\n",
       "      <th>1558</th>\n",
       "      <td>1558</td>\n",
       "      <td>0.507786</td>\n",
       "    </tr>\n",
       "    <tr>\n",
       "      <th>2344</th>\n",
       "      <td>2344</td>\n",
       "      <td>0.520868</td>\n",
       "    </tr>\n",
       "    <tr>\n",
       "      <th>2755</th>\n",
       "      <td>2755</td>\n",
       "      <td>0.500204</td>\n",
       "    </tr>\n",
       "    <tr>\n",
       "      <th>2958</th>\n",
       "      <td>2958</td>\n",
       "      <td>0.534716</td>\n",
       "    </tr>\n",
       "    <tr>\n",
       "      <th>4028</th>\n",
       "      <td>4028</td>\n",
       "      <td>0.506777</td>\n",
       "    </tr>\n",
       "    <tr>\n",
       "      <th>4161</th>\n",
       "      <td>4161</td>\n",
       "      <td>0.505768</td>\n",
       "    </tr>\n",
       "    <tr>\n",
       "      <th>4629</th>\n",
       "      <td>4629</td>\n",
       "      <td>0.513453</td>\n",
       "    </tr>\n",
       "    <tr>\n",
       "      <th>5146</th>\n",
       "      <td>5146</td>\n",
       "      <td>0.544110</td>\n",
       "    </tr>\n",
       "    <tr>\n",
       "      <th>5777</th>\n",
       "      <td>5777</td>\n",
       "      <td>0.512072</td>\n",
       "    </tr>\n",
       "    <tr>\n",
       "      <th>6204</th>\n",
       "      <td>6204</td>\n",
       "      <td>0.520273</td>\n",
       "    </tr>\n",
       "    <tr>\n",
       "      <th>6792</th>\n",
       "      <td>6792</td>\n",
       "      <td>0.518434</td>\n",
       "    </tr>\n",
       "    <tr>\n",
       "      <th>7152</th>\n",
       "      <td>7152</td>\n",
       "      <td>0.501115</td>\n",
       "    </tr>\n",
       "    <tr>\n",
       "      <th>7726</th>\n",
       "      <td>7726</td>\n",
       "      <td>0.508196</td>\n",
       "    </tr>\n",
       "    <tr>\n",
       "      <th>7904</th>\n",
       "      <td>7904</td>\n",
       "      <td>0.500845</td>\n",
       "    </tr>\n",
       "    <tr>\n",
       "      <th>8719</th>\n",
       "      <td>8719</td>\n",
       "      <td>0.523576</td>\n",
       "    </tr>\n",
       "    <tr>\n",
       "      <th>9416</th>\n",
       "      <td>9416</td>\n",
       "      <td>0.503375</td>\n",
       "    </tr>\n",
       "    <tr>\n",
       "      <th>9700</th>\n",
       "      <td>9700</td>\n",
       "      <td>0.543066</td>\n",
       "    </tr>\n",
       "  </tbody>\n",
       "</table>\n",
       "</div>"
      ],
      "text/plain": [
       "        id  song_popularity\n",
       "1003  1003         0.524419\n",
       "1558  1558         0.507786\n",
       "2344  2344         0.520868\n",
       "2755  2755         0.500204\n",
       "2958  2958         0.534716\n",
       "4028  4028         0.506777\n",
       "4161  4161         0.505768\n",
       "4629  4629         0.513453\n",
       "5146  5146         0.544110\n",
       "5777  5777         0.512072\n",
       "6204  6204         0.520273\n",
       "6792  6792         0.518434\n",
       "7152  7152         0.501115\n",
       "7726  7726         0.508196\n",
       "7904  7904         0.500845\n",
       "8719  8719         0.523576\n",
       "9416  9416         0.503375\n",
       "9700  9700         0.543066"
      ]
     },
     "execution_count": 78,
     "metadata": {},
     "output_type": "execute_result"
    }
   ],
   "source": [
    "df_submission[df_submission.song_popularity > 0.5]"
   ]
  },
  {
   "cell_type": "code",
   "execution_count": 79,
   "metadata": {},
   "outputs": [
    {
     "name": "stdout",
     "output_type": "stream",
     "text": [
      "Saved validation predictions for all folds to csv\n"
     ]
    }
   ],
   "source": [
    "rf_val_preds = df_train[[\"id\", \"song_popularity_proba\", \"song_popularity\"]]\n",
    "rf_val_preds.to_csv(\"rf_val_preds.csv\")\n",
    "print(\"Saved validation predictions for all folds to csv\")"
   ]
  }
 ],
 "metadata": {
  "interpreter": {
   "hash": "0197751694b00855cd01780d565fa2e16f7945f624c4146f8d6aac863c2ba178"
  },
  "kernelspec": {
   "display_name": "Python 3.9.7 64-bit ('fastai': conda)",
   "language": "python",
   "name": "python3"
  },
  "language_info": {
   "codemirror_mode": {
    "name": "ipython",
    "version": 3
   },
   "file_extension": ".py",
   "mimetype": "text/x-python",
   "name": "python",
   "nbconvert_exporter": "python",
   "pygments_lexer": "ipython3",
   "version": "3.9.7"
  },
  "orig_nbformat": 4
 },
 "nbformat": 4,
 "nbformat_minor": 2
}
