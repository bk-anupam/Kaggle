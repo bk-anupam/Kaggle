{
 "cells": [
  {
   "cell_type": "code",
   "execution_count": 2,
   "metadata": {},
   "outputs": [],
   "source": [
    "import numpy as np\n",
    "import pandas as pd\n",
    "import matplotlib.pyplot as plt\n",
    "import torch\n",
    "import json\n",
    "import pytorch_lightning as pl\n",
    "from torch.utils.data import Dataset, DataLoader\n",
    "from sklearn import model_selection\n",
    "import torchvision.transforms as transforms\n",
    "import torchvision.io \n",
    "from PIL import Image"
   ]
  },
  {
   "cell_type": "code",
   "execution_count": 3,
   "metadata": {},
   "outputs": [],
   "source": [
    "# CONSTANTS\n",
    "BATCH_SIZE = 32\n",
    "NUM_FOLDS = 5\n",
    "NUM_EPOCHS = 10\n",
    "NUM_WORKERS = 8"
   ]
  },
  {
   "cell_type": "markdown",
   "metadata": {},
   "source": [
    "## EDA"
   ]
  },
  {
   "cell_type": "code",
   "execution_count": 4,
   "metadata": {},
   "outputs": [],
   "source": [
    "with open(\"./data/label_num_to_disease_map.json\") as label_mapping_file:\n",
    "    label_map = json.load(label_mapping_file)"
   ]
  },
  {
   "cell_type": "code",
   "execution_count": 5,
   "metadata": {},
   "outputs": [
    {
     "data": {
      "text/html": [
       "<div>\n",
       "<style scoped>\n",
       "    .dataframe tbody tr th:only-of-type {\n",
       "        vertical-align: middle;\n",
       "    }\n",
       "\n",
       "    .dataframe tbody tr th {\n",
       "        vertical-align: top;\n",
       "    }\n",
       "\n",
       "    .dataframe thead th {\n",
       "        text-align: right;\n",
       "    }\n",
       "</style>\n",
       "<table border=\"1\" class=\"dataframe\">\n",
       "  <thead>\n",
       "    <tr style=\"text-align: right;\">\n",
       "      <th></th>\n",
       "      <th>image_id</th>\n",
       "      <th>label</th>\n",
       "      <th>disease</th>\n",
       "    </tr>\n",
       "  </thead>\n",
       "  <tbody>\n",
       "    <tr>\n",
       "      <th>0</th>\n",
       "      <td>1000015157.jpg</td>\n",
       "      <td>0</td>\n",
       "      <td>Cassava Bacterial Blight (CBB)</td>\n",
       "    </tr>\n",
       "    <tr>\n",
       "      <th>1</th>\n",
       "      <td>1000201771.jpg</td>\n",
       "      <td>3</td>\n",
       "      <td>Cassava Mosaic Disease (CMD)</td>\n",
       "    </tr>\n",
       "    <tr>\n",
       "      <th>2</th>\n",
       "      <td>100042118.jpg</td>\n",
       "      <td>1</td>\n",
       "      <td>Cassava Brown Streak Disease (CBSD)</td>\n",
       "    </tr>\n",
       "    <tr>\n",
       "      <th>3</th>\n",
       "      <td>1000723321.jpg</td>\n",
       "      <td>1</td>\n",
       "      <td>Cassava Brown Streak Disease (CBSD)</td>\n",
       "    </tr>\n",
       "    <tr>\n",
       "      <th>4</th>\n",
       "      <td>1000812911.jpg</td>\n",
       "      <td>3</td>\n",
       "      <td>Cassava Mosaic Disease (CMD)</td>\n",
       "    </tr>\n",
       "  </tbody>\n",
       "</table>\n",
       "</div>"
      ],
      "text/plain": [
       "         image_id  label                              disease\n",
       "0  1000015157.jpg      0       Cassava Bacterial Blight (CBB)\n",
       "1  1000201771.jpg      3         Cassava Mosaic Disease (CMD)\n",
       "2   100042118.jpg      1  Cassava Brown Streak Disease (CBSD)\n",
       "3  1000723321.jpg      1  Cassava Brown Streak Disease (CBSD)\n",
       "4  1000812911.jpg      3         Cassava Mosaic Disease (CMD)"
      ]
     },
     "execution_count": 5,
     "metadata": {},
     "output_type": "execute_result"
    }
   ],
   "source": [
    "df_train_img_names = pd.read_csv(\"./data/train.csv\")\n",
    "# Add a column with disease name\n",
    "df_train_img_names[\"disease\"] = df_train_img_names.apply(\n",
    "    lambda row: label_map[str(row[\"label\"])], axis=1\n",
    "    )\n",
    "df_train_img_names.head()"
   ]
  },
  {
   "cell_type": "code",
   "execution_count": 6,
   "metadata": {},
   "outputs": [
    {
     "data": {
      "text/plain": [
       "3    13158\n",
       "4     2577\n",
       "2     2386\n",
       "1     2189\n",
       "0     1087\n",
       "Name: label, dtype: int64"
      ]
     },
     "execution_count": 6,
     "metadata": {},
     "output_type": "execute_result"
    }
   ],
   "source": [
    "df_train_img_names.label.value_counts()"
   ]
  },
  {
   "cell_type": "markdown",
   "metadata": {},
   "source": [
    "Check the disease distribution within the training samples. Distribution doesn't seem balanced with CMD outnumbering other disease types by a wide margin"
   ]
  },
  {
   "cell_type": "code",
   "execution_count": 7,
   "metadata": {},
   "outputs": [
    {
     "name": "stdout",
     "output_type": "stream",
     "text": [
      "Cassava Mosaic Disease (CMD)           13158\n",
      "Healthy                                 2577\n",
      "Cassava Green Mottle (CGM)              2386\n",
      "Cassava Brown Streak Disease (CBSD)     2189\n",
      "Cassava Bacterial Blight (CBB)          1087\n",
      "Name: disease, dtype: int64\n"
     ]
    },
    {
     "data": {
      "image/png": "[encoded data removed]",
      "text/plain": [
       "<Figure size 432x288 with 1 Axes>"
      ]
     },
     "metadata": {
      "needs_background": "light"
     },
     "output_type": "display_data"
    }
   ],
   "source": [
    "# Disease distribution\n",
    "disease_counts = df_train_img_names.disease.value_counts()\n",
    "print(disease_counts)\n",
    "plt.bar(disease_counts.index, disease_counts.values)\n",
    "plt.xticks(rotation=90)\n",
    "plt.ylabel(\"Count\")\n",
    "plt.title(\"Disease count\")\n",
    "plt.show()\n"
   ]
  },
  {
   "cell_type": "code",
   "execution_count": 8,
   "metadata": {},
   "outputs": [
    {
     "data": {
      "text/html": [
       "<div>\n",
       "<style scoped>\n",
       "    .dataframe tbody tr th:only-of-type {\n",
       "        vertical-align: middle;\n",
       "    }\n",
       "\n",
       "    .dataframe tbody tr th {\n",
       "        vertical-align: top;\n",
       "    }\n",
       "\n",
       "    .dataframe thead th {\n",
       "        text-align: right;\n",
       "    }\n",
       "</style>\n",
       "<table border=\"1\" class=\"dataframe\">\n",
       "  <thead>\n",
       "    <tr style=\"text-align: right;\">\n",
       "      <th></th>\n",
       "      <th>image_id</th>\n",
       "      <th>label</th>\n",
       "      <th>disease</th>\n",
       "      <th>kfold</th>\n",
       "    </tr>\n",
       "  </thead>\n",
       "  <tbody>\n",
       "    <tr>\n",
       "      <th>0</th>\n",
       "      <td>2615227158.jpg</td>\n",
       "      <td>4</td>\n",
       "      <td>Healthy</td>\n",
       "      <td>2</td>\n",
       "    </tr>\n",
       "    <tr>\n",
       "      <th>1</th>\n",
       "      <td>1277648239.jpg</td>\n",
       "      <td>3</td>\n",
       "      <td>Cassava Mosaic Disease (CMD)</td>\n",
       "      <td>1</td>\n",
       "    </tr>\n",
       "    <tr>\n",
       "      <th>2</th>\n",
       "      <td>2305895487.jpg</td>\n",
       "      <td>3</td>\n",
       "      <td>Cassava Mosaic Disease (CMD)</td>\n",
       "      <td>2</td>\n",
       "    </tr>\n",
       "    <tr>\n",
       "      <th>3</th>\n",
       "      <td>336299725.jpg</td>\n",
       "      <td>2</td>\n",
       "      <td>Cassava Green Mottle (CGM)</td>\n",
       "      <td>1</td>\n",
       "    </tr>\n",
       "    <tr>\n",
       "      <th>4</th>\n",
       "      <td>1951270318.jpg</td>\n",
       "      <td>2</td>\n",
       "      <td>Cassava Green Mottle (CGM)</td>\n",
       "      <td>0</td>\n",
       "    </tr>\n",
       "  </tbody>\n",
       "</table>\n",
       "</div>"
      ],
      "text/plain": [
       "         image_id  label                       disease  kfold\n",
       "0  2615227158.jpg      4                       Healthy      2\n",
       "1  1277648239.jpg      3  Cassava Mosaic Disease (CMD)      1\n",
       "2  2305895487.jpg      3  Cassava Mosaic Disease (CMD)      2\n",
       "3   336299725.jpg      2    Cassava Green Mottle (CGM)      1\n",
       "4  1951270318.jpg      2    Cassava Green Mottle (CGM)      0"
      ]
     },
     "execution_count": 8,
     "metadata": {},
     "output_type": "execute_result"
    }
   ],
   "source": [
    "\n",
    "# split the training dataframe into kfolds for cross validation. We do this before any processing is done\n",
    "# on the data. We use stratified kfold if the target distribution is unbalanced\n",
    "def strat_kfold_dataframe(df, target_col_name, num_folds=5):\n",
    "    # we create a new column called kfold and fill it with -1\n",
    "    df[\"kfold\"] = -1\n",
    "    # randomize of shuffle the rows of dataframe before splitting is done\n",
    "    df = df.sample(frac=1, random_state=42).reset_index(drop=True)\n",
    "    # get the target data\n",
    "    y = df[target_col_name].values\n",
    "    skf = model_selection.StratifiedKFold(n_splits=num_folds, shuffle=True, random_state=42)\n",
    "    for fold, (train_index, val_index) in enumerate(skf.split(X=df, y=y)):\n",
    "        df.loc[val_index, \"kfold\"] = fold    \n",
    "    return df     \n",
    "\n",
    "df_train_img_names = strat_kfold_dataframe(df_train_img_names, target_col_name=\"label\")\n",
    "df_train_img_names.head()"
   ]
  },
  {
   "cell_type": "code",
   "execution_count": 9,
   "metadata": {},
   "outputs": [],
   "source": [
    "import tqdm\n",
    "\n",
    "# https://kozodoi.me/python/deep%20learning/pytorch/tutorial/2021/03/08/image-mean-std.html\n",
    "# https://www.thoughtco.com/sum-of-squares-formula-shortcut-3126266\n",
    "def get_imgs_mean_stddev(dl_img, axis=None):    \n",
    "    \"\"\"Get the mean and standard deviation for images in a dataset / mini-batch.\n",
    "    img batch is of shape BS * C * H * W \n",
    "    where BS = batch_size or no of training samples \n",
    "    C = 3 ( RGB channels ), H = height of image matrix, W = width of image matrix\n",
    "    Args:\n",
    "        dl_imgs ([DataLoader]): image data loader\n",
    "        axis ([tuple of ints], optional): Axis along which mean and std dev is to be calculated.\n",
    "        Defaults to None.\n",
    "    Returns:\n",
    "        [tuple]: tuple of tensors with mean and std.dev. of the imgs\n",
    "    \"\"\"\n",
    "    torch.manual_seed(42)\n",
    "    device = torch.device('cuda' if torch.cuda.is_available() else 'cpu')    \n",
    "    # sum of pixel values along RGB channels\n",
    "    psum = torch.Tensor([0.0, 0.0, 0.0])\n",
    "    # sum of squares of pixel values along RGB channels\n",
    "    psum_sq = torch.Tensor([0.0, 0.0, 0.0])        \n",
    "    num_img = 0    \n",
    "    img_h, img_w = 0, 0    \n",
    "    count = 0\n",
    "    for img, label in tqdm.tqdm(dl_img): \n",
    "        if count == 0:            \n",
    "            img_h = img.shape[2]       \n",
    "            img_w = img.shape[3]\n",
    "        num_img += img.shape[0]            \n",
    "        psum += img.sum(axis=[0, 2, 3])        \n",
    "        img_sq = img.square()\n",
    "        psum_sq += img_sq.sum(axis=[0, 2, 3])\n",
    "        count += 1\n",
    "    # pixel count of single img (index 1 is the height and index 2 is width of img)\n",
    "    img_pixel_count = img_h * img_w      \n",
    "    total_pixel_count = num_img * img_pixel_count   \n",
    "    # mean of pixel values across the dataset        \n",
    "    total_mean = psum / total_pixel_count    \n",
    "    # variance of pixel values across the dataset\n",
    "    total_var = (psum_sq / total_pixel_count) - (total_mean.square())    \n",
    "    total_std = torch.sqrt(total_var)\n",
    "    return total_mean, total_std"
   ]
  },
  {
   "cell_type": "markdown",
   "metadata": {},
   "source": [
    "# Define a custom pytorch Dataset for training"
   ]
  },
  {
   "cell_type": "code",
   "execution_count": 10,
   "metadata": {},
   "outputs": [],
   "source": [
    "# A dataset contains the logic to fetch, load and if required transform data to bring it to a format\n",
    "# that can be used by dataloaders for training\n",
    "class CassavaImageDataset(Dataset):\n",
    "    def __init__(self, df, img_name_col, target_col, img_root_folder, transform=None, target_transform=None):\n",
    "        self.df = df\n",
    "        self.img_name_col = img_name_col\n",
    "        self.target_col = target_col\n",
    "        self.img_root_folder = img_root_folder\n",
    "        self.transform = transform\n",
    "        self.target_transform = target_transform\n",
    "\n",
    "    def __getitem__(self, index):\n",
    "        img_path = self.img_root_folder + \"/\" + self.df.loc[index, self.img_name_col]\n",
    "        img = Image.open(img_path)\n",
    "        img_label = self.df.loc[index, self.target_col]\n",
    "        if self.transform is not None:\n",
    "            img = self.transform(img)\n",
    "        if self.target_transform is not None:\n",
    "            img_label = self.target_transform(img_label)\n",
    "        return img, img_label\n",
    "\n",
    "    def __len__(self):\n",
    "        return len(self.df)"
   ]
  },
  {
   "cell_type": "code",
   "execution_count": 11,
   "metadata": {},
   "outputs": [],
   "source": [
    "train_transform = transforms.Compose([\n",
    "        transforms.RandomResizedCrop((224,224)),\n",
    "        transforms.ToTensor(),\n",
    "        transforms.RandomHorizontalFlip(),\n",
    "        transforms.Normalize([0.4303, 0.4967, 0.3135], [0.2203, 0.2232, 0.2114])\n",
    "])\n",
    "\n",
    "val_transform = transforms.Compose([\n",
    "        transforms.CenterCrop((224,224)),\n",
    "        transforms.ToTensor(),        \n",
    "        transforms.Normalize([0.4303, 0.4967, 0.3135], [0.2203, 0.2232, 0.2114])\n",
    "])"
   ]
  },
  {
   "cell_type": "code",
   "execution_count": 12,
   "metadata": {},
   "outputs": [],
   "source": [
    "def get_fold_dls(fold, df_imgs):\n",
    "    df_train = df_imgs[df_imgs[\"kfold\"] != fold].reset_index(drop=True)\n",
    "    df_val = df_imgs[df_imgs[\"kfold\"] == fold].reset_index(drop=True)    \n",
    "    ds_train = CassavaImageDataset(\n",
    "        df_train, \n",
    "        img_name_col=\"image_id\",\n",
    "        target_col=\"label\",\n",
    "        img_root_folder=\"./data/train_images\", \n",
    "        transform=train_transform,\n",
    "        target_transform=torch.as_tensor\n",
    "        )\n",
    "    ds_val = CassavaImageDataset(\n",
    "        df_val, \n",
    "        img_name_col=\"image_id\",\n",
    "        target_col=\"label\",\n",
    "        img_root_folder=\"./data/train_images\", \n",
    "        transform=val_transform,\n",
    "        target_transform=torch.as_tensor\n",
    "        )        \n",
    "    dl_train = DataLoader(ds_train, batch_size=BATCH_SIZE, shuffle=True)    \n",
    "    dl_val = DataLoader(ds_val, batch_size=BATCH_SIZE, shuffle=True)\n",
    "    return dl_train, dl_val, ds_train, ds_val"
   ]
  },
  {
   "cell_type": "code",
   "execution_count": 13,
   "metadata": {},
   "outputs": [],
   "source": [
    "dl_train, dl_val, ds_train, ds_val = get_fold_dls(0, df_train_img_names)"
   ]
  },
  {
   "cell_type": "code",
   "execution_count": 14,
   "metadata": {},
   "outputs": [
    {
     "data": {
      "text/plain": [
       "4280"
      ]
     },
     "execution_count": 14,
     "metadata": {},
     "output_type": "execute_result"
    }
   ],
   "source": [
    "len(ds_val)"
   ]
  },
  {
   "cell_type": "code",
   "execution_count": 15,
   "metadata": {},
   "outputs": [],
   "source": [
    "# counter = 0\n",
    "# for imgs, lbls in dl_val:\n",
    "#     if counter > 0:\n",
    "#         break\n",
    "#     img_mean = torch.mean(imgs, axis=(0, 2, 3))\n",
    "#     img_std = torch.std(imgs, axis=(0, 2, 3))\n",
    "#     counter += 1\n",
    "# print(img_mean, img_std)    "
   ]
  },
  {
   "cell_type": "code",
   "execution_count": 16,
   "metadata": {},
   "outputs": [],
   "source": [
    "# ds_all = CassavaImageDataset(\n",
    "#         df_train_img_names, \n",
    "#         img_name_col=\"image_id\",\n",
    "#         target_col=\"label\",\n",
    "#         img_root_folder=\"./data/train_images\", \n",
    "#         transform=train_transform,\n",
    "#         target_transform=torch.as_tensor\n",
    "#         )\n",
    "# dl_all = DataLoader(ds_all, batch_size=BATCH_SIZE, shuffle=True)            \n",
    "# img_mean, img_std = get_imgs_mean_stddev(dl_all)\n",
    "# print(f\"img mean calculated on entire training dataset = {img_mean}\")\n",
    "# print(f\"img std calculated on entire training dataset = {img_std}\")"
   ]
  },
  {
   "cell_type": "markdown",
   "metadata": {},
   "source": [
    "img mean calculated on entire training dataset = tensor([0.4303, 0.4967, 0.3135])<br>\n",
    "img std calculated on entire training dataset = tensor([0.2203, 0.2232, 0.2114])"
   ]
  },
  {
   "cell_type": "code",
   "execution_count": 17,
   "metadata": {},
   "outputs": [],
   "source": [
    "# display images along with their labels from a batch where images are in form of numpy arrays \n",
    "# if predictions are provided along with labels, these are displayed too\n",
    "def show_batch(img_ds, num_items, num_rows, num_cols, predict_arr=None):\n",
    "    fig = plt.figure(figsize=(9, 6))\n",
    "    img_index = np.random.randint(0, len(img_ds)-1, num_items)\n",
    "    for index, img_index in enumerate(img_index):  # list first 9 images\n",
    "        img, lb = img_ds[img_index]        \n",
    "        ax = fig.add_subplot(num_rows, num_cols, index + 1, xticks=[], yticks=[])\n",
    "        if isinstance(img, torch.Tensor):\n",
    "            img = img.detach().numpy()\n",
    "        if isinstance(img, np.ndarray):\n",
    "            # the image data has RGB channels at dim 0, the shape of 3, 64, 64 needs to be 64, 64, 3 for display\n",
    "            img = img.transpose(1, 2, 0)\n",
    "            ax.imshow(Image.fromarray(np.uint8(img)).convert('RGB'))        \n",
    "        if isinstance(lb, torch.Tensor):\n",
    "            # extract the label from label tensor\n",
    "            lb = lb.item()            \n",
    "        title = f\"Actual: {lb}\"\n",
    "        if predict_arr: \n",
    "            title += f\", Pred: {predict_arr[img_index]}\"        \n",
    "        ax.set_title(title)  "
   ]
  },
  {
   "cell_type": "code",
   "execution_count": 18,
   "metadata": {},
   "outputs": [
    {
     "data": {
      "image/png": "[encoded data removed]",
      "text/plain": [
       "<Figure size 648x432 with 3 Axes>"
      ]
     },
     "metadata": {},
     "output_type": "display_data"
    }
   ],
   "source": [
    "show_batch(ds_val, 3, 1, 3)"
   ]
  },
  {
   "cell_type": "code",
   "execution_count": 19,
   "metadata": {},
   "outputs": [],
   "source": [
    "from typing import Optional\n",
    "from pytorch_lightning.utilities.types import TRAIN_DATALOADERS, EVAL_DATALOADERS\n",
    "\n",
    "class CassavaDataModule(pl.LightningDataModule):\n",
    "    def __init__(self, fold, img_root_path, df, img_name_col, target_col, batch_size=BATCH_SIZE,  \n",
    "                 input_img_dims=(3,224,224),num_target_classes=5, \n",
    "                 train_transforms=None, val_transforms=None):  \n",
    "        super().__init__()                       \n",
    "        self.fold = fold\n",
    "        self.img_root_path = img_root_path  \n",
    "        self.df = df\n",
    "        self.img_name_col = img_name_col\n",
    "        self.target_col = target_col\n",
    "        self.batch_size = batch_size\n",
    "        self.input_imgs_dims = input_img_dims        \n",
    "        self.num_target_classes = num_target_classes\n",
    "        default_transforms = transforms.Compose([\n",
    "                transforms.Resize((224,224)),\n",
    "                transforms.ToTensor(),\n",
    "                transforms.Normalize([0.4303, 0.4967, 0.3135], [0.2203, 0.2232, 0.2114])\n",
    "            ])\n",
    "        if train_transforms is None:\n",
    "            self.train_transforms = default_transforms\n",
    "        else:\n",
    "            self.train_transforms = train_transforms    \n",
    "\n",
    "        if val_transforms is None:\n",
    "            self.val_transforms = default_transforms\n",
    "        else:\n",
    "            self.val_transforms = val_transforms                        \n",
    "\n",
    "    def prepare_data(self) -> None:\n",
    "         return super().prepare_data()       \n",
    "\n",
    "    def setup(self, stage: Optional[str] = None) -> None:\n",
    "        super().setup(stage=stage)                     \n",
    "        self.df_train = self.df[self.df[\"kfold\"] != self.fold].reset_index(drop=True)\n",
    "        self.df_val = self.df[self.df[\"kfold\"] == self.fold].reset_index(drop=True)  \n",
    "        self.ds_train = CassavaImageDataset(\n",
    "            self.df_train, \n",
    "            img_name_col=self.img_name_col,\n",
    "            target_col=self.target_col,\n",
    "            img_root_folder=self.img_root_path, \n",
    "            transform=self.train_transforms,\n",
    "            target_transform=torch.as_tensor\n",
    "            )\n",
    "        self.ds_val = CassavaImageDataset(\n",
    "            self.df_val, \n",
    "            img_name_col=self.img_name_col,\n",
    "            target_col=self.target_col,\n",
    "            img_root_folder=self.img_root_path, \n",
    "            transform=self.val_transforms,\n",
    "            target_transform=torch.as_tensor\n",
    "            )            \n",
    "\n",
    "    def train_dataloader(self) -> TRAIN_DATALOADERS:\n",
    "        return DataLoader(self.ds_train, batch_size=self.batch_size, shuffle=True, \n",
    "                            num_workers=NUM_WORKERS)            \n",
    "\n",
    "    def val_dataloader(self) -> EVAL_DATALOADERS:\n",
    "        return DataLoader(self.ds_val, batch_size=self.batch_size, num_workers=NUM_WORKERS)            "
   ]
  },
  {
   "cell_type": "code",
   "execution_count": 20,
   "metadata": {},
   "outputs": [],
   "source": [
    "img_name_col=\"image_id\"\n",
    "target_col=\"label\"\n",
    "img_root_folder=\"./data/train_images\"\n",
    "\n",
    "dm = CassavaDataModule(\n",
    "    fold = 0, \n",
    "    df = df_train_img_names,\n",
    "    img_root_path = img_root_folder,\n",
    "    img_name_col = img_name_col,\n",
    "    target_col = target_col,\n",
    "    train_transforms = train_transform,\n",
    "    val_transforms = val_transform\n",
    "    )\n",
    "\n",
    "dm.prepare_data()    \n",
    "dm.setup()"
   ]
  },
  {
   "cell_type": "code",
   "execution_count": 37,
   "metadata": {},
   "outputs": [],
   "source": [
    "import torchvision.models as models\n",
    "import torch.nn as nn\n",
    "import torchmetrics\n",
    "\n",
    "class ResnetTL_LitModel(pl.LightningModule):\n",
    "    def __init__(self, num_classes, fine_tune=True, drop_out=0.25, lr=0.00012):\n",
    "        super().__init__()\n",
    "        pt_model = models.resnet50(pretrained=True)\n",
    "        self.num_classes = num_classes\n",
    "        self.lr = lr\n",
    "        self.fine_tune = fine_tune\n",
    "        self.drop_out = drop_out        \n",
    "        self.train_loss = nn.CrossEntropyLoss()\n",
    "        self.val_loss = nn.CrossEntropyLoss()\n",
    "        self.train_accuracy = torchmetrics.Accuracy() \n",
    "        self.val_accuracy = torchmetrics.Accuracy()\n",
    "        # We cut the head from the pretrained model and use the remaining model as a feature extractor\n",
    "        pt_layers = list(pt_model.children())[:-1]\n",
    "        self.backbone = nn.Sequential(*pt_layers)\n",
    "        # Create a new model head\n",
    "        # For resnet50 the num of input features to final FC layer is 2048\n",
    "        self.new_head = self.create_model_head(pt_model.fc.in_features)        \n",
    "\n",
    "    def create_model_head(self, in_features):         \n",
    "        # Create a new model head \n",
    "        # The weights of the newly created layers are initialized by pytorch automatically\n",
    "        # See : https://github.com/pytorch/pytorch/blob/master/torch/nn/modules/linear.py#L81\n",
    "        new_head = nn.Sequential(\n",
    "            nn.Linear(in_features, 512),\n",
    "            nn.ReLU(),\n",
    "            nn.Dropout(p=self.drop_out),\n",
    "            nn.Linear(512, 256),\n",
    "            nn.ReLU(),\n",
    "            nn.Dropout(p=self.drop_out),\n",
    "            nn.Linear(256, self.num_classes)\n",
    "        )                \n",
    "        return new_head\n",
    "\n",
    "    def forward(self, x):\n",
    "        features = self.backbone(x)\n",
    "        features = torch.flatten(features, 1)\n",
    "        x = self.new_head(features)\n",
    "        return x\n",
    "\n",
    "    def configure_optimizers(self):\n",
    "        model_optimizer = torch.optim.Adam(self.parameters(), lr=self.lr)\n",
    "        lr_scheduler = torch.optim.lr_scheduler.ReduceLROnPlateau(model_optimizer, \"min\")        \n",
    "        return {\n",
    "            \"optimizer\": model_optimizer, \n",
    "            \"lr_scheduler\": {\n",
    "                \"scheduler\": lr_scheduler,\n",
    "                \"monitor\": \"val_loss\",\n",
    "                \"frequency\": 1\n",
    "            }\n",
    "        }\n",
    "\n",
    "    def training_step(self, batch, batch_idx):\n",
    "        X, y = batch\n",
    "        y_pred = self(X)        \n",
    "        loss = self.train_loss(y_pred, y)\n",
    "        acc = self.train_accuracy(y_pred, y)\n",
    "        self.log(\"train_loss\", loss, on_epoch=True, logger=True, prog_bar=True)\n",
    "        self.log(\"train_accuracy\", acc, on_epoch=True, logger=True, prog_bar=True)\n",
    "        return loss\n",
    "\n",
    "    def validation_step(self, batch, batch_idx):\n",
    "        X, y = batch\n",
    "        y_pred = self(X)\n",
    "        loss = self.val_loss(y_pred, y)\n",
    "        acc = self.val_accuracy(y_pred, y)\n",
    "        self.log(\"val_loss\", loss, on_epoch=True, logger=True, prog_bar=True)\n",
    "        self.log(\"val_accuracy\", acc, on_epoch=True, logger=True, prog_bar=True)\n",
    "        return loss"
   ]
  },
  {
   "cell_type": "code",
   "execution_count": 38,
   "metadata": {},
   "outputs": [
    {
     "name": "stderr",
     "output_type": "stream",
     "text": [
      "GPU available: True, used: True\n",
      "TPU available: False, using: 0 TPU cores\n",
      "IPU available: False, using: 0 IPUs\n"
     ]
    }
   ],
   "source": [
    "from pytorch_lightning.callbacks import ModelCheckpoint, BackboneFinetuning\n",
    "\n",
    "cassava_model = ResnetTL_LitModel(num_classes=5, lr=0.00012)\n",
    "tb_logger = pl.loggers.TensorBoardLogger(\"logs\", \"cassava_model\")\n",
    "checkpoint_callback = ModelCheckpoint(dirpath=\"./model\", monitor=\"val_loss\", filename=\"cassava_best_model\")\n",
    "multiplicative = lambda epoch: 1.5\n",
    "backbone_finetuning = BackboneFinetuning(5, multiplicative)\n",
    "\n",
    "trainer = pl.Trainer(\n",
    "    gpus=1,\n",
    "    auto_select_gpus=True,\n",
    "    progress_bar_refresh_rate=20,\n",
    "    max_epochs=NUM_EPOCHS,\n",
    "    logger=tb_logger,\n",
    "    auto_lr_find=True,\n",
    "    callbacks=[checkpoint_callback, backbone_finetuning]\n",
    ")"
   ]
  },
  {
   "cell_type": "code",
   "execution_count": 33,
   "metadata": {},
   "outputs": [
    {
     "data": {
      "text/plain": [
       "{}"
      ]
     },
     "execution_count": 33,
     "metadata": {},
     "output_type": "execute_result"
    }
   ],
   "source": [
    "trainer.tune(cassava_model, dm)"
   ]
  },
  {
   "cell_type": "code",
   "execution_count": 34,
   "metadata": {},
   "outputs": [
    {
     "name": "stderr",
     "output_type": "stream",
     "text": [
      "/home/bk_anupam/anaconda3/envs/fastai/lib/python3.9/site-packages/pytorch_lightning/core/datamodule.py:423: LightningDeprecationWarning: DataModule.setup has already been called, so it will not be called again. In v1.6 this behavior will change to always call DataModule.setup.\n",
      "  rank_zero_deprecation(\n",
      "LOCAL_RANK: 0 - CUDA_VISIBLE_DEVICES: [0]\n",
      "\n",
      "  | Name           | Type             | Params\n",
      "----------------------------------------------------\n",
      "0 | train_loss     | CrossEntropyLoss | 0     \n",
      "1 | val_loss       | CrossEntropyLoss | 0     \n",
      "2 | train_accuracy | Accuracy         | 0     \n",
      "3 | val_accuracy   | Accuracy         | 0     \n",
      "4 | backbone       | Sequential       | 23.5 M\n",
      "5 | new_head       | Sequential       | 1.2 M \n",
      "----------------------------------------------------\n",
      "24.7 M    Trainable params\n",
      "0         Non-trainable params\n",
      "24.7 M    Total params\n",
      "98.759    Total estimated model params size (MB)\n"
     ]
    },
    {
     "data": {
      "application/vnd.jupyter.widget-view+json": {
       "model_id": "5fdd98fda68f407fab6708ffada4fa8e",
       "version_major": 2,
       "version_minor": 0
      },
      "text/plain": [
       "Finding best initial lr:   0%|          | 0/100 [00:00<?, ?it/s]"
      ]
     },
     "metadata": {},
     "output_type": "display_data"
    },
    {
     "name": "stderr",
     "output_type": "stream",
     "text": [
      "Restoring states from the checkpoint file at /home/bk_anupam/code/ML/Kaggle/cassava-leaf-disease/lr_find_temp_model.ckpt\n",
      "Restored all states from the checkpoint file at /home/bk_anupam/code/ML/Kaggle/cassava-leaf-disease/lr_find_temp_model.ckpt\n"
     ]
    },
    {
     "name": "stdout",
     "output_type": "stream",
     "text": [
      "{'lr': [1e-08, 1.4454397707459274e-08, 1.7378008287493753e-08, 2.0892961308540398e-08, 2.51188643150958e-08, 3.019951720402016e-08, 3.630780547701014e-08, 4.36515832240166e-08, 5.248074602497726e-08, 6.309573444801934e-08, 7.585775750291837e-08, 9.120108393559096e-08, 1.0964781961431852e-07, 1.3182567385564074e-07, 1.5848931924611133e-07, 1.9054607179632475e-07, 2.2908676527677735e-07, 2.7542287033381663e-07, 3.311311214825911e-07, 3.9810717055349735e-07, 4.786300923226383e-07, 5.75439937337157e-07, 6.918309709189366e-07, 8.317637711026709e-07, 1e-06, 1.2022644346174132e-06, 1.445439770745928e-06, 1.7378008287493761e-06, 2.089296130854039e-06, 2.5118864315095797e-06, 3.0199517204020163e-06, 3.630780547701014e-06, 4.365158322401661e-06, 5.248074602497728e-06, 6.3095734448019305e-06, 7.585775750291836e-06, 9.120108393559096e-06, 1.0964781961431852e-05, 1.3182567385564076e-05, 1.584893192461114e-05, 1.9054607179632464e-05, 2.2908676527677725e-05, 2.7542287033381663e-05, 3.311311214825911e-05, 3.9810717055349735e-05, 4.786300923226385e-05, 5.7543993733715664e-05, 6.918309709189363e-05, 8.317637711026709e-05, 0.0001, 0.00012022644346174131, 0.0001445439770745928, 0.00017378008287493763, 0.0002089296130854041, 0.0002511886431509582, 0.0003019951720402019, 0.000363078054770101, 0.0004365158322401656, 0.0005248074602497723, 0.000630957344480193, 0.0007585775750291836, 0.0009120108393559097, 0.0010964781961431851, 0.0013182567385564075, 0.001584893192461114, 0.0019054607179632484, 0.0022908676527677745, 0.002754228703338169, 0.003311311214825908, 0.003981071705534969, 0.00478630092322638, 0.005754399373371567, 0.006918309709189364, 0.008317637711026709, 0.01, 0.012022644346174132, 0.01445439770745928, 0.017378008287493765, 0.02089296130854041, 0.025118864315095822, 0.030199517204020192, 0.036307805477010104, 0.04365158322401657, 0.05248074602497723, 0.0630957344480193, 0.07585775750291836, 0.09120108393559097, 0.10964781961431852, 0.13182567385564073, 0.15848931924611143, 0.19054607179632482, 0.2290867652767775, 0.2754228703338169, 0.3311311214825908, 0.3981071705534969, 0.47863009232263803, 0.5754399373371567, 0.6918309709189363, 0.8317637711026709, 1.0], 'loss': [1.5929752588272097, 1.6037332951420469, 1.6012029174460367, 1.5971721142348068, 1.5920564752598927, 1.5878580051676747, 1.5874546333796922, 1.5873743925408124, 1.584737116603582, 1.5853009930252344, 1.58638538085534, 1.5846767614508006, 1.5849652536146852, 1.5835536294700472, 1.5832007437829283, 1.5830116469112483, 1.583603774997634, 1.582509367928747, 1.5830230768455604, 1.5832359225579147, 1.5824626918977531, 1.5826588117286755, 1.5826505595530571, 1.5816183248146338, 1.5806117700263589, 1.5806274512179839, 1.5812313675892367, 1.581847584372544, 1.5815269531068568, 1.5813484487912495, 1.5806526863822794, 1.5798246667450464, 1.5799587782740088, 1.5798512594488177, 1.5801569649904945, 1.578807045311636, 1.5775480810349984, 1.5758040872624028, 1.5737433600864974, 1.574872448414018, 1.5720498361119692, 1.569651212632193, 1.5663116389153877, 1.5625657015554308, 1.5601426658415956, 1.557111408929856, 1.5533329115441654, 1.5490308710900351, 1.5405745281742864, 1.5306205741476706, 1.5195556003343444, 1.502321629805544, 1.4971324333614275, 1.4855172377791208, 1.47197504366992, 1.4589014913629064, 1.4482042133759052, 1.4385586624613371, 1.4274523820697795, 1.4154117861543138, 1.4036603404186097, 1.3895239673701993, 1.3842538781892737, 1.3903416303370804, 1.3867853581596528, 1.380108448899978, 1.3932126544337036, 1.3928796364026763, 1.4065013274148808, 1.4015627677999611, 1.4094691971964175, 1.419842785981157, 1.4120747948836945, 1.414983407144633, 1.4148795855340426, 1.430105231994587, 1.4357020093837989, 1.4351180399071457, 1.4464263205014223, 1.4458187492428027, 1.4415590277861803, 1.4542669041122478, 1.4538245810210841, 1.449000580679983, 1.4486451924985944, 1.4508546267391964, 1.44465184482111, 1.4872638934102274, 1.493977459622968, 1.4911281116816055, 1.515302064216485, 1.6504817361386004, 1.6440736814837302, 1.6357949076297733, 1.6273542625220807, 1.6155519557874576, 1.6113598641178926, 1.6062766485929783, 1.5963104013974876, 1.5866113836376587]}\n"
     ]
    },
    {
     "data": {
      "image/png": "[encoded data removed]",
      "text/plain": [
       "<Figure size 432x288 with 1 Axes>"
      ]
     },
     "metadata": {
      "needs_background": "light"
     },
     "output_type": "display_data"
    }
   ],
   "source": [
    "lr_finder = trainer.tuner.lr_find(cassava_model, dm)\n",
    "print(lr_finder.results)\n",
    "# Plot with\n",
    "fig = lr_finder.plot(suggest=True)\n",
    "fig.show()"
   ]
  },
  {
   "cell_type": "code",
   "execution_count": 35,
   "metadata": {},
   "outputs": [
    {
     "data": {
      "text/plain": [
       "0.00012022644346174131"
      ]
     },
     "execution_count": 35,
     "metadata": {},
     "output_type": "execute_result"
    }
   ],
   "source": [
    "lr_finder.suggestion()"
   ]
  },
  {
   "cell_type": "code",
   "execution_count": 39,
   "metadata": {},
   "outputs": [
    {
     "name": "stderr",
     "output_type": "stream",
     "text": [
      "/home/bk_anupam/anaconda3/envs/fastai/lib/python3.9/site-packages/pytorch_lightning/core/datamodule.py:423: LightningDeprecationWarning: DataModule.setup has already been called, so it will not be called again. In v1.6 this behavior will change to always call DataModule.setup.\n",
      "  rank_zero_deprecation(\n",
      "LOCAL_RANK: 0 - CUDA_VISIBLE_DEVICES: [0]\n",
      "\n",
      "  | Name           | Type             | Params\n",
      "----------------------------------------------------\n",
      "0 | train_loss     | CrossEntropyLoss | 0     \n",
      "1 | val_loss       | CrossEntropyLoss | 0     \n",
      "2 | train_accuracy | Accuracy         | 0     \n",
      "3 | val_accuracy   | Accuracy         | 0     \n",
      "4 | backbone       | Sequential       | 23.5 M\n",
      "5 | new_head       | Sequential       | 1.2 M \n",
      "----------------------------------------------------\n",
      "1.2 M     Trainable params\n",
      "23.5 M    Non-trainable params\n",
      "24.7 M    Total params\n",
      "98.759    Total estimated model params size (MB)\n"
     ]
    },
    {
     "data": {
      "application/vnd.jupyter.widget-view+json": {
       "model_id": "5d15bfff923e4d84b6f6f9d7bafbba9b",
       "version_major": 2,
       "version_minor": 0
      },
      "text/plain": [
       "Validation sanity check: 0it [00:00, ?it/s]"
      ]
     },
     "metadata": {},
     "output_type": "display_data"
    },
    {
     "data": {
      "application/vnd.jupyter.widget-view+json": {
       "model_id": "6a8adc5e042f46c68c90c856927b5d8f",
       "version_major": 2,
       "version_minor": 0
      },
      "text/plain": [
       "Training: -1it [00:00, ?it/s]"
      ]
     },
     "metadata": {},
     "output_type": "display_data"
    },
    {
     "data": {
      "application/vnd.jupyter.widget-view+json": {
       "model_id": "91ef240b6a0c41769a1c55e001a1bc62",
       "version_major": 2,
       "version_minor": 0
      },
      "text/plain": [
       "Validating: 0it [00:00, ?it/s]"
      ]
     },
     "metadata": {},
     "output_type": "display_data"
    },
    {
     "data": {
      "application/vnd.jupyter.widget-view+json": {
       "model_id": "c8ed396fd9c042fa933dd4b8c144cf8a",
       "version_major": 2,
       "version_minor": 0
      },
      "text/plain": [
       "Validating: 0it [00:00, ?it/s]"
      ]
     },
     "metadata": {},
     "output_type": "display_data"
    },
    {
     "data": {
      "application/vnd.jupyter.widget-view+json": {
       "model_id": "4d1f729908d64965b0640f0ce8a4ea27",
       "version_major": 2,
       "version_minor": 0
      },
      "text/plain": [
       "Validating: 0it [00:00, ?it/s]"
      ]
     },
     "metadata": {},
     "output_type": "display_data"
    },
    {
     "data": {
      "application/vnd.jupyter.widget-view+json": {
       "model_id": "3fa43279c5294ec7905388324ae9fadd",
       "version_major": 2,
       "version_minor": 0
      },
      "text/plain": [
       "Validating: 0it [00:00, ?it/s]"
      ]
     },
     "metadata": {},
     "output_type": "display_data"
    },
    {
     "data": {
      "application/vnd.jupyter.widget-view+json": {
       "model_id": "f74b9f75e1a1457db6a02b6dbfcad219",
       "version_major": 2,
       "version_minor": 0
      },
      "text/plain": [
       "Validating: 0it [00:00, ?it/s]"
      ]
     },
     "metadata": {},
     "output_type": "display_data"
    },
    {
     "name": "stderr",
     "output_type": "stream",
     "text": [
      "/home/bk_anupam/anaconda3/envs/fastai/lib/python3.9/site-packages/pytorch_lightning/callbacks/finetuning.py:215: UserWarning: The provided params to be freezed already exist within another group of this optimizer. Those parameters will be skipped.\n",
      "HINT: Did you init your optimizer in `configure_optimizer` as such:\n",
      " <class 'torch.optim.adam.Adam'>(filter(lambda p: p.requires_grad, self.parameters()), ...) \n",
      "  rank_zero_warn(\n"
     ]
    },
    {
     "data": {
      "application/vnd.jupyter.widget-view+json": {
       "model_id": "ffe98188fc204daeb32d2bc967faefda",
       "version_major": 2,
       "version_minor": 0
      },
      "text/plain": [
       "Validating: 0it [00:00, ?it/s]"
      ]
     },
     "metadata": {},
     "output_type": "display_data"
    },
    {
     "data": {
      "application/vnd.jupyter.widget-view+json": {
       "model_id": "692e3ab21f86405f9fbdcafb1c582aeb",
       "version_major": 2,
       "version_minor": 0
      },
      "text/plain": [
       "Validating: 0it [00:00, ?it/s]"
      ]
     },
     "metadata": {},
     "output_type": "display_data"
    },
    {
     "data": {
      "application/vnd.jupyter.widget-view+json": {
       "model_id": "7a0f261b9a8a4229961efd1fb2f34388",
       "version_major": 2,
       "version_minor": 0
      },
      "text/plain": [
       "Validating: 0it [00:00, ?it/s]"
      ]
     },
     "metadata": {},
     "output_type": "display_data"
    },
    {
     "data": {
      "application/vnd.jupyter.widget-view+json": {
       "model_id": "1b1200e9a6484ca192b6bc0049d0f07e",
       "version_major": 2,
       "version_minor": 0
      },
      "text/plain": [
       "Validating: 0it [00:00, ?it/s]"
      ]
     },
     "metadata": {},
     "output_type": "display_data"
    },
    {
     "data": {
      "application/vnd.jupyter.widget-view+json": {
       "model_id": "bcf8c6f44ab74c47824742b5df8bafa6",
       "version_major": 2,
       "version_minor": 0
      },
      "text/plain": [
       "Validating: 0it [00:00, ?it/s]"
      ]
     },
     "metadata": {},
     "output_type": "display_data"
    },
    {
     "name": "stderr",
     "output_type": "stream",
     "text": [
      "/home/bk_anupam/anaconda3/envs/fastai/lib/python3.9/site-packages/pytorch_lightning/core/datamodule.py:423: LightningDeprecationWarning: DataModule.teardown has already been called, so it will not be called again. In v1.6 this behavior will change to always call DataModule.teardown.\n",
      "  rank_zero_deprecation(\n"
     ]
    }
   ],
   "source": [
    "trainer.fit(cassava_model, dm)"
   ]
  },
  {
   "cell_type": "code",
   "execution_count": 22,
   "metadata": {},
   "outputs": [],
   "source": [
    "%load_ext tensorboard"
   ]
  }
 ],
 "metadata": {
  "interpreter": {
   "hash": "0197751694b00855cd01780d565fa2e16f7945f624c4146f8d6aac863c2ba178"
  },
  "kernelspec": {
   "display_name": "Python 3.9.7 64-bit ('fastai': conda)",
   "name": "python3"
  },
  "language_info": {
   "codemirror_mode": {
    "name": "ipython",
    "version": 3
   },
   "file_extension": ".py",
   "mimetype": "text/x-python",
   "name": "python",
   "nbconvert_exporter": "python",
   "pygments_lexer": "ipython3",
   "version": "3.9.7"
  },
  "orig_nbformat": 4
 },
 "nbformat": 4,
 "nbformat_minor": 2
}
