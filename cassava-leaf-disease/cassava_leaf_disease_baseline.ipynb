{
 "cells": [
  {
   "cell_type": "code",
   "execution_count": 1,
   "metadata": {},
   "outputs": [],
   "source": [
    "import numpy as np\n",
    "import pandas as pd\n",
    "import matplotlib.pyplot as plt\n",
    "import torch\n",
    "import json\n",
    "import pytorch_lightning as pl\n",
    "from torch.utils.data import Dataset, DataLoader\n",
    "from sklearn import model_selection\n",
    "import torchvision.transforms as transforms\n",
    "import torchvision.io \n",
    "from PIL import Image\n",
    "import albumentations as alb"
   ]
  },
  {
   "cell_type": "code",
   "execution_count": 2,
   "metadata": {},
   "outputs": [],
   "source": [
    "# CONSTANTS\n",
    "BATCH_SIZE = 16\n",
    "NUM_FOLDS = 5\n",
    "NUM_EPOCHS = 10\n",
    "NUM_WORKERS = 8\n",
    "INPUT_IMAGE_SIZE = (256,256)\n",
    "IMG_MEAN = [0.485, 0.456, 0.406]\n",
    "IMG_STD = [0.229, 0.224, 0.225]"
   ]
  },
  {
   "cell_type": "markdown",
   "metadata": {},
   "source": [
    "## EDA"
   ]
  },
  {
   "cell_type": "code",
   "execution_count": 3,
   "metadata": {},
   "outputs": [],
   "source": [
    "with open(\"./data/label_num_to_disease_map.json\") as label_mapping_file:\n",
    "    label_map = json.load(label_mapping_file)"
   ]
  },
  {
   "cell_type": "code",
   "execution_count": 4,
   "metadata": {},
   "outputs": [
    {
     "data": {
      "text/html": [
       "<div>\n",
       "<style scoped>\n",
       "    .dataframe tbody tr th:only-of-type {\n",
       "        vertical-align: middle;\n",
       "    }\n",
       "\n",
       "    .dataframe tbody tr th {\n",
       "        vertical-align: top;\n",
       "    }\n",
       "\n",
       "    .dataframe thead th {\n",
       "        text-align: right;\n",
       "    }\n",
       "</style>\n",
       "<table border=\"1\" class=\"dataframe\">\n",
       "  <thead>\n",
       "    <tr style=\"text-align: right;\">\n",
       "      <th></th>\n",
       "      <th>image_id</th>\n",
       "      <th>label</th>\n",
       "      <th>disease</th>\n",
       "    </tr>\n",
       "  </thead>\n",
       "  <tbody>\n",
       "    <tr>\n",
       "      <th>0</th>\n",
       "      <td>1000015157.jpg</td>\n",
       "      <td>0</td>\n",
       "      <td>Cassava Bacterial Blight (CBB)</td>\n",
       "    </tr>\n",
       "    <tr>\n",
       "      <th>1</th>\n",
       "      <td>1000201771.jpg</td>\n",
       "      <td>3</td>\n",
       "      <td>Cassava Mosaic Disease (CMD)</td>\n",
       "    </tr>\n",
       "    <tr>\n",
       "      <th>2</th>\n",
       "      <td>100042118.jpg</td>\n",
       "      <td>1</td>\n",
       "      <td>Cassava Brown Streak Disease (CBSD)</td>\n",
       "    </tr>\n",
       "    <tr>\n",
       "      <th>3</th>\n",
       "      <td>1000723321.jpg</td>\n",
       "      <td>1</td>\n",
       "      <td>Cassava Brown Streak Disease (CBSD)</td>\n",
       "    </tr>\n",
       "    <tr>\n",
       "      <th>4</th>\n",
       "      <td>1000812911.jpg</td>\n",
       "      <td>3</td>\n",
       "      <td>Cassava Mosaic Disease (CMD)</td>\n",
       "    </tr>\n",
       "  </tbody>\n",
       "</table>\n",
       "</div>"
      ],
      "text/plain": [
       "         image_id  label                              disease\n",
       "0  1000015157.jpg      0       Cassava Bacterial Blight (CBB)\n",
       "1  1000201771.jpg      3         Cassava Mosaic Disease (CMD)\n",
       "2   100042118.jpg      1  Cassava Brown Streak Disease (CBSD)\n",
       "3  1000723321.jpg      1  Cassava Brown Streak Disease (CBSD)\n",
       "4  1000812911.jpg      3         Cassava Mosaic Disease (CMD)"
      ]
     },
     "execution_count": 4,
     "metadata": {},
     "output_type": "execute_result"
    }
   ],
   "source": [
    "df_train_img_names = pd.read_csv(\"./data/train.csv\")\n",
    "# Add a column with disease name\n",
    "df_train_img_names[\"disease\"] = df_train_img_names.apply(\n",
    "    lambda row: label_map[str(row[\"label\"])], axis=1\n",
    "    )\n",
    "df_train_img_names.head()"
   ]
  },
  {
   "cell_type": "code",
   "execution_count": 5,
   "metadata": {},
   "outputs": [
    {
     "data": {
      "text/plain": [
       "3    13158\n",
       "4     2577\n",
       "2     2386\n",
       "1     2189\n",
       "0     1087\n",
       "Name: label, dtype: int64"
      ]
     },
     "execution_count": 5,
     "metadata": {},
     "output_type": "execute_result"
    }
   ],
   "source": [
    "df_train_img_names.label.value_counts()"
   ]
  },
  {
   "cell_type": "markdown",
   "metadata": {},
   "source": [
    "Check the disease distribution within the training samples. Distribution doesn't seem balanced with CMD outnumbering other disease types by a wide margin"
   ]
  },
  {
   "cell_type": "code",
   "execution_count": 6,
   "metadata": {},
   "outputs": [
    {
     "name": "stdout",
     "output_type": "stream",
     "text": [
      "Cassava Mosaic Disease (CMD)           13158\n",
      "Healthy                                 2577\n",
      "Cassava Green Mottle (CGM)              2386\n",
      "Cassava Brown Streak Disease (CBSD)     2189\n",
      "Cassava Bacterial Blight (CBB)          1087\n",
      "Name: disease, dtype: int64\n"
     ]
    },
    {
     "data": {
      "image/png": "[encoded data removed]",
      "text/plain": [
       "<Figure size 432x288 with 1 Axes>"
      ]
     },
     "metadata": {
      "needs_background": "light"
     },
     "output_type": "display_data"
    }
   ],
   "source": [
    "# Disease distribution\n",
    "disease_counts = df_train_img_names.disease.value_counts()\n",
    "print(disease_counts)\n",
    "plt.bar(disease_counts.index, disease_counts.values)\n",
    "plt.xticks(rotation=90)\n",
    "plt.ylabel(\"Count\")\n",
    "plt.title(\"Disease count\")\n",
    "plt.show()\n"
   ]
  },
  {
   "cell_type": "code",
   "execution_count": 7,
   "metadata": {},
   "outputs": [
    {
     "data": {
      "text/html": [
       "<div>\n",
       "<style scoped>\n",
       "    .dataframe tbody tr th:only-of-type {\n",
       "        vertical-align: middle;\n",
       "    }\n",
       "\n",
       "    .dataframe tbody tr th {\n",
       "        vertical-align: top;\n",
       "    }\n",
       "\n",
       "    .dataframe thead th {\n",
       "        text-align: right;\n",
       "    }\n",
       "</style>\n",
       "<table border=\"1\" class=\"dataframe\">\n",
       "  <thead>\n",
       "    <tr style=\"text-align: right;\">\n",
       "      <th></th>\n",
       "      <th>image_id</th>\n",
       "      <th>label</th>\n",
       "      <th>disease</th>\n",
       "      <th>kfold</th>\n",
       "    </tr>\n",
       "  </thead>\n",
       "  <tbody>\n",
       "    <tr>\n",
       "      <th>0</th>\n",
       "      <td>2615227158.jpg</td>\n",
       "      <td>4</td>\n",
       "      <td>Healthy</td>\n",
       "      <td>2</td>\n",
       "    </tr>\n",
       "    <tr>\n",
       "      <th>1</th>\n",
       "      <td>1277648239.jpg</td>\n",
       "      <td>3</td>\n",
       "      <td>Cassava Mosaic Disease (CMD)</td>\n",
       "      <td>1</td>\n",
       "    </tr>\n",
       "    <tr>\n",
       "      <th>2</th>\n",
       "      <td>2305895487.jpg</td>\n",
       "      <td>3</td>\n",
       "      <td>Cassava Mosaic Disease (CMD)</td>\n",
       "      <td>2</td>\n",
       "    </tr>\n",
       "    <tr>\n",
       "      <th>3</th>\n",
       "      <td>336299725.jpg</td>\n",
       "      <td>2</td>\n",
       "      <td>Cassava Green Mottle (CGM)</td>\n",
       "      <td>1</td>\n",
       "    </tr>\n",
       "    <tr>\n",
       "      <th>4</th>\n",
       "      <td>1951270318.jpg</td>\n",
       "      <td>2</td>\n",
       "      <td>Cassava Green Mottle (CGM)</td>\n",
       "      <td>0</td>\n",
       "    </tr>\n",
       "  </tbody>\n",
       "</table>\n",
       "</div>"
      ],
      "text/plain": [
       "         image_id  label                       disease  kfold\n",
       "0  2615227158.jpg      4                       Healthy      2\n",
       "1  1277648239.jpg      3  Cassava Mosaic Disease (CMD)      1\n",
       "2  2305895487.jpg      3  Cassava Mosaic Disease (CMD)      2\n",
       "3   336299725.jpg      2    Cassava Green Mottle (CGM)      1\n",
       "4  1951270318.jpg      2    Cassava Green Mottle (CGM)      0"
      ]
     },
     "execution_count": 7,
     "metadata": {},
     "output_type": "execute_result"
    }
   ],
   "source": [
    "\n",
    "# split the training dataframe into kfolds for cross validation. We do this before any processing is done\n",
    "# on the data. We use stratified kfold if the target distribution is unbalanced\n",
    "def strat_kfold_dataframe(df, target_col_name, num_folds=5):\n",
    "    # we create a new column called kfold and fill it with -1\n",
    "    df[\"kfold\"] = -1\n",
    "    # randomize of shuffle the rows of dataframe before splitting is done\n",
    "    df = df.sample(frac=1, random_state=42).reset_index(drop=True)\n",
    "    # get the target data\n",
    "    y = df[target_col_name].values\n",
    "    skf = model_selection.StratifiedKFold(n_splits=num_folds, shuffle=True, random_state=42)\n",
    "    for fold, (train_index, val_index) in enumerate(skf.split(X=df, y=y)):\n",
    "        df.loc[val_index, \"kfold\"] = fold    \n",
    "    return df     \n",
    "\n",
    "df_train_img_names = strat_kfold_dataframe(df_train_img_names, target_col_name=\"label\")\n",
    "df_train_img_names.head()"
   ]
  },
  {
   "cell_type": "code",
   "execution_count": 8,
   "metadata": {},
   "outputs": [],
   "source": [
    "import tqdm\n",
    "\n",
    "# https://kozodoi.me/python/deep%20learning/pytorch/tutorial/2021/03/08/image-mean-std.html\n",
    "# https://www.thoughtco.com/sum-of-squares-formula-shortcut-3126266\n",
    "def get_imgs_mean_stddev(dl_img, axis=None):    \n",
    "    \"\"\"Get the mean and standard deviation for images in a dataset / mini-batch.\n",
    "    img batch is of shape BS * C * H * W \n",
    "    where BS = batch_size or no of training samples \n",
    "    C = 3 ( RGB channels ), H = height of image matrix, W = width of image matrix\n",
    "    Args:\n",
    "        dl_imgs ([DataLoader]): image data loader\n",
    "        axis ([tuple of ints], optional): Axis along which mean and std dev is to be calculated.\n",
    "        Defaults to None.\n",
    "    Returns:\n",
    "        [tuple]: tuple of tensors with mean and std.dev. of the imgs\n",
    "    \"\"\"\n",
    "    torch.manual_seed(42)\n",
    "    device = torch.device('cuda' if torch.cuda.is_available() else 'cpu')    \n",
    "    # sum of pixel values along RGB channels\n",
    "    psum = torch.Tensor([0.0, 0.0, 0.0])\n",
    "    # sum of squares of pixel values along RGB channels\n",
    "    psum_sq = torch.Tensor([0.0, 0.0, 0.0])        \n",
    "    num_img = 0    \n",
    "    img_h, img_w = 0, 0    \n",
    "    count = 0\n",
    "    for img, label in tqdm.tqdm(dl_img): \n",
    "        if count == 0:            \n",
    "            img_h = img.shape[2]       \n",
    "            img_w = img.shape[3]\n",
    "        num_img += img.shape[0]            \n",
    "        psum += img.sum(axis=[0, 2, 3])        \n",
    "        img_sq = img.square()\n",
    "        psum_sq += img_sq.sum(axis=[0, 2, 3])\n",
    "        count += 1\n",
    "    # pixel count of single img (index 1 is the height and index 2 is width of img)\n",
    "    img_pixel_count = img_h * img_w      \n",
    "    total_pixel_count = num_img * img_pixel_count   \n",
    "    # mean of pixel values across the dataset        \n",
    "    total_mean = psum / total_pixel_count    \n",
    "    # variance of pixel values across the dataset\n",
    "    total_var = (psum_sq / total_pixel_count) - (total_mean.square())    \n",
    "    total_std = torch.sqrt(total_var)\n",
    "    return total_mean, total_std"
   ]
  },
  {
   "cell_type": "markdown",
   "metadata": {},
   "source": [
    "# Define a custom pytorch Dataset for training"
   ]
  },
  {
   "cell_type": "code",
   "execution_count": 9,
   "metadata": {},
   "outputs": [],
   "source": [
    "# A dataset contains the logic to fetch, load and if required transform data to bring it to a format\n",
    "# that can be used by dataloaders for training\n",
    "class CassavaImageDataset(Dataset):\n",
    "    def __init__(self, df, img_name_col, target_col, img_root_folder, transform=None, target_transform=None):\n",
    "        self.df = df\n",
    "        self.img_name_col = img_name_col\n",
    "        self.target_col = target_col\n",
    "        self.img_root_folder = img_root_folder\n",
    "        self.transform = transform\n",
    "        self.target_transform = target_transform\n",
    "\n",
    "    def __getitem__(self, index):\n",
    "        img_path = self.img_root_folder + \"/\" + self.df.loc[index, self.img_name_col]\n",
    "        img = np.array(Image.open(img_path))\n",
    "        img_label = self.df.loc[index, self.target_col]\n",
    "        if self.transform is not None:\n",
    "            augmented = self.transform(image=img)\n",
    "            img = augmented[\"image\"]\n",
    "        if self.target_transform is not None:\n",
    "            img_label = self.target_transform(img_label)\n",
    "        return img, img_label\n",
    "\n",
    "    def __len__(self):\n",
    "        return len(self.df)"
   ]
  },
  {
   "cell_type": "code",
   "execution_count": 10,
   "metadata": {},
   "outputs": [],
   "source": [
    "from albumentations.pytorch import ToTensorV2\n",
    "\n",
    "train_transform = alb.Compose([\n",
    "        alb.RandomResizedCrop(INPUT_IMAGE_SIZE[0], INPUT_IMAGE_SIZE[1]),        \n",
    "        alb.HorizontalFlip(p=0.5),\n",
    "        alb.VerticalFlip(p=0.5),\n",
    "        alb.ShiftScaleRotate(p=0.5),\n",
    "        alb.Transpose(p=0.5),                \n",
    "        alb.Normalize(mean=IMG_MEAN, std=IMG_STD),\n",
    "        ToTensorV2()\n",
    "])\n",
    "\n",
    "val_transform = alb.Compose([\n",
    "        alb.CenterCrop(INPUT_IMAGE_SIZE[0], INPUT_IMAGE_SIZE[1]),\n",
    "        alb.Normalize(mean=IMG_MEAN, std=IMG_STD),\n",
    "        ToTensorV2()        \n",
    "])"
   ]
  },
  {
   "cell_type": "code",
   "execution_count": 11,
   "metadata": {},
   "outputs": [],
   "source": [
    "def get_fold_dls(fold, df_imgs):\n",
    "    df_train = df_imgs[df_imgs[\"kfold\"] != fold].reset_index(drop=True)\n",
    "    df_val = df_imgs[df_imgs[\"kfold\"] == fold].reset_index(drop=True)    \n",
    "    ds_train = CassavaImageDataset(\n",
    "        df_train, \n",
    "        img_name_col=\"image_id\",\n",
    "        target_col=\"label\",\n",
    "        img_root_folder=\"./data/train_images\", \n",
    "        transform=train_transform,\n",
    "        target_transform=torch.as_tensor\n",
    "        )\n",
    "    ds_val = CassavaImageDataset(\n",
    "        df_val, \n",
    "        img_name_col=\"image_id\",\n",
    "        target_col=\"label\",\n",
    "        img_root_folder=\"./data/train_images\", \n",
    "        transform=val_transform,\n",
    "        target_transform=torch.as_tensor\n",
    "        )        \n",
    "    dl_train = DataLoader(ds_train, batch_size=BATCH_SIZE, shuffle=True)    \n",
    "    dl_val = DataLoader(ds_val, batch_size=BATCH_SIZE, shuffle=True)\n",
    "    return dl_train, dl_val, ds_train, ds_val"
   ]
  },
  {
   "cell_type": "code",
   "execution_count": 12,
   "metadata": {},
   "outputs": [],
   "source": [
    "dl_train, dl_val, ds_train, ds_val = get_fold_dls(0, df_train_img_names)"
   ]
  },
  {
   "cell_type": "code",
   "execution_count": 15,
   "metadata": {},
   "outputs": [],
   "source": [
    "# counter = 0\n",
    "# for imgs, lbls in dl_val:\n",
    "#     if counter > 0:\n",
    "#         break\n",
    "#     img_mean = torch.mean(imgs, axis=(0, 2, 3))\n",
    "#     img_std = torch.std(imgs, axis=(0, 2, 3))\n",
    "#     counter += 1\n",
    "# print(img_mean, img_std)    "
   ]
  },
  {
   "cell_type": "code",
   "execution_count": 16,
   "metadata": {},
   "outputs": [],
   "source": [
    "# ds_all = CassavaImageDataset(\n",
    "#         df_train_img_names, \n",
    "#         img_name_col=\"image_id\",\n",
    "#         target_col=\"label\",\n",
    "#         img_root_folder=\"./data/train_images\", \n",
    "#         transform=train_transform,\n",
    "#         target_transform=torch.as_tensor\n",
    "#         )\n",
    "# dl_all = DataLoader(ds_all, batch_size=BATCH_SIZE, shuffle=True)            \n",
    "# img_mean, img_std = get_imgs_mean_stddev(dl_all)\n",
    "# print(f\"img mean calculated on entire training dataset = {img_mean}\")\n",
    "# print(f\"img std calculated on entire training dataset = {img_std}\")"
   ]
  },
  {
   "cell_type": "markdown",
   "metadata": {},
   "source": [
    "img mean calculated on entire training dataset = tensor([0.4303, 0.4967, 0.3135])<br>\n",
    "img std calculated on entire training dataset = tensor([0.2203, 0.2232, 0.2114])"
   ]
  },
  {
   "cell_type": "code",
   "execution_count": 17,
   "metadata": {},
   "outputs": [],
   "source": [
    "# display images along with their labels from a batch where images are in form of numpy arrays \n",
    "# if predictions are provided along with labels, these are displayed too\n",
    "def show_batch(img_ds, num_items, num_rows, num_cols, predict_arr=None):\n",
    "    fig = plt.figure(figsize=(9, 6))\n",
    "    img_index = np.random.randint(0, len(img_ds)-1, num_items)\n",
    "    for index, img_index in enumerate(img_index):  # list first 9 images\n",
    "        img, lb = img_ds[img_index]        \n",
    "        ax = fig.add_subplot(num_rows, num_cols, index + 1, xticks=[], yticks=[])\n",
    "        if isinstance(img, torch.Tensor):\n",
    "            img = img.detach().numpy()\n",
    "        if isinstance(img, np.ndarray):\n",
    "            # the image data has RGB channels at dim 0, the shape of 3, 64, 64 needs to be 64, 64, 3 for display            \n",
    "            img = img.transpose(1, 2, 0)\n",
    "            ax.imshow(Image.fromarray(np.uint8(img)).convert('RGB'))        \n",
    "        if isinstance(lb, torch.Tensor):\n",
    "            # extract the label from label tensor\n",
    "            lb = lb.item()            \n",
    "        title = f\"Actual: {lb}\"\n",
    "        if predict_arr: \n",
    "            title += f\", Pred: {predict_arr[img_index]}\"        \n",
    "        ax.set_title(title)  "
   ]
  },
  {
   "cell_type": "code",
   "execution_count": 18,
   "metadata": {},
   "outputs": [
    {
     "name": "stdout",
     "output_type": "stream",
     "text": [
      "here1\n",
      "here1\n",
      "here1\n"
     ]
    },
    {
     "data": {
      "image/png": "[encoded data removed]",
      "text/plain": [
       "<Figure size 648x432 with 3 Axes>"
      ]
     },
     "metadata": {},
     "output_type": "display_data"
    }
   ],
   "source": [
    "show_batch(ds_val, 3, 1, 3)"
   ]
  },
  {
   "cell_type": "code",
   "execution_count": 19,
   "metadata": {},
   "outputs": [],
   "source": [
    "from typing import Optional\n",
    "from pytorch_lightning.utilities.types import TRAIN_DATALOADERS, EVAL_DATALOADERS\n",
    "\n",
    "class CassavaDataModule(pl.LightningDataModule):\n",
    "    def __init__(self, fold, img_root_path, df, img_name_col, target_col, batch_size=BATCH_SIZE,  \n",
    "                 input_img_dims=(3,INPUT_IMAGE_SIZE[0],INPUT_IMAGE_SIZE[1]),num_target_classes=5, \n",
    "                 train_transforms=None, val_transforms=None):  \n",
    "        super().__init__()                       \n",
    "        self.fold = fold\n",
    "        self.img_root_path = img_root_path  \n",
    "        self.df = df\n",
    "        self.img_name_col = img_name_col\n",
    "        self.target_col = target_col\n",
    "        self.batch_size = batch_size\n",
    "        self.input_imgs_dims = input_img_dims        \n",
    "        self.num_target_classes = num_target_classes\n",
    "        # default_transforms = transforms.Compose([\n",
    "        #         transforms.Resize(INPUT_IMAGE_SIZE),\n",
    "        #         transforms.ToTensor(),\n",
    "        #         transforms.Normalize(IMG_MEAN, IMG_STD)\n",
    "        #     ])\n",
    "        if train_transforms is None:\n",
    "            self.train_transforms = None\n",
    "        else:\n",
    "            self.train_transforms = train_transforms    \n",
    "\n",
    "        if val_transforms is None:\n",
    "            self.val_transforms = None\n",
    "        else:\n",
    "            self.val_transforms = val_transforms                        \n",
    "\n",
    "    def prepare_data(self) -> None:\n",
    "         return super().prepare_data()       \n",
    "\n",
    "    def setup(self, stage: Optional[str] = None) -> None:\n",
    "        super().setup(stage=stage)                     \n",
    "        self.df_train = self.df[self.df[\"kfold\"] != self.fold].reset_index(drop=True)\n",
    "        self.df_val = self.df[self.df[\"kfold\"] == self.fold].reset_index(drop=True)  \n",
    "        self.ds_train = CassavaImageDataset(\n",
    "            self.df_train, \n",
    "            img_name_col=self.img_name_col,\n",
    "            target_col=self.target_col,\n",
    "            img_root_folder=self.img_root_path, \n",
    "            transform=self.train_transforms,\n",
    "            target_transform=torch.as_tensor\n",
    "            )\n",
    "        self.ds_val = CassavaImageDataset(\n",
    "            self.df_val, \n",
    "            img_name_col=self.img_name_col,\n",
    "            target_col=self.target_col,\n",
    "            img_root_folder=self.img_root_path, \n",
    "            transform=self.val_transforms,\n",
    "            target_transform=torch.as_tensor\n",
    "            )            \n",
    "\n",
    "    def train_dataloader(self) -> TRAIN_DATALOADERS:\n",
    "        return DataLoader(self.ds_train, batch_size=self.batch_size, shuffle=True, \n",
    "                            num_workers=NUM_WORKERS)            \n",
    "\n",
    "    def val_dataloader(self) -> EVAL_DATALOADERS:\n",
    "        return DataLoader(self.ds_val, batch_size=self.batch_size, num_workers=NUM_WORKERS)            "
   ]
  },
  {
   "cell_type": "code",
   "execution_count": 20,
   "metadata": {},
   "outputs": [],
   "source": [
    "img_name_col=\"image_id\"\n",
    "target_col=\"label\"\n",
    "img_root_folder=\"./data/train_images\"\n",
    "\n",
    "dm = CassavaDataModule(\n",
    "    fold = 0, \n",
    "    df = df_train_img_names,\n",
    "    img_root_path = img_root_folder,\n",
    "    img_name_col = img_name_col,\n",
    "    target_col = target_col,\n",
    "    train_transforms = train_transform,\n",
    "    val_transforms = val_transform\n",
    "    )"
   ]
  },
  {
   "cell_type": "code",
   "execution_count": 21,
   "metadata": {},
   "outputs": [],
   "source": [
    "import torchvision.models as models\n",
    "import torch.nn as nn\n",
    "import torchmetrics\n",
    "\n",
    "class ResnetTL_LitModel(pl.LightningModule):\n",
    "    def __init__(self, num_classes, fine_tune=True, drop_out=0.25, lr=0.00012):\n",
    "        super().__init__()\n",
    "        pt_model = models.resnext50_32x4d(pretrained=True)\n",
    "        self.num_classes = num_classes\n",
    "        self.lr = lr\n",
    "        self.fine_tune = fine_tune\n",
    "        self.drop_out = drop_out        \n",
    "        self.train_loss = nn.CrossEntropyLoss()\n",
    "        self.val_loss = nn.CrossEntropyLoss()\n",
    "        self.train_accuracy = torchmetrics.Accuracy() \n",
    "        self.val_accuracy = torchmetrics.Accuracy()\n",
    "        # We cut the head from the pretrained model and use the remaining model as a feature extractor\n",
    "        pt_layers = list(pt_model.children())[:-1]\n",
    "        self.backbone = nn.Sequential(*pt_layers)\n",
    "        # Create a new model head\n",
    "        # For resnet50 the num of input features to final FC layer is 2048\n",
    "        self.new_head = self.create_model_head(pt_model.fc.in_features)        \n",
    "\n",
    "    def create_model_head(self, in_features):         \n",
    "        # Create a new model head \n",
    "        # The weights of the newly created layers are initialized by pytorch automatically\n",
    "        # See : https://github.com/pytorch/pytorch/blob/master/torch/nn/modules/linear.py#L81\n",
    "        new_head = nn.Sequential(\n",
    "            nn.Linear(in_features, 512),\n",
    "            nn.ReLU(),\n",
    "            nn.Dropout(p=self.drop_out),\n",
    "            nn.Linear(512, 256),\n",
    "            nn.ReLU(),\n",
    "            nn.Dropout(p=self.drop_out),\n",
    "            nn.Linear(256, self.num_classes)\n",
    "        )                \n",
    "        return new_head\n",
    "\n",
    "    def forward(self, x):\n",
    "        features = self.backbone(x)\n",
    "        features = torch.flatten(features, 1)\n",
    "        x = self.new_head(features)\n",
    "        return x\n",
    "\n",
    "    def configure_optimizers(self):\n",
    "        model_optimizer = torch.optim.Adam(self.parameters(), lr=self.lr)\n",
    "        lr_scheduler = torch.optim.lr_scheduler.ReduceLROnPlateau(model_optimizer, \"min\")        \n",
    "        return {\n",
    "            \"optimizer\": model_optimizer, \n",
    "            \"lr_scheduler\": {\n",
    "                \"scheduler\": lr_scheduler,\n",
    "                \"monitor\": \"val_loss\",\n",
    "                \"frequency\": 1\n",
    "            }\n",
    "        }\n",
    "\n",
    "    def training_step(self, batch, batch_idx):\n",
    "        X, y = batch\n",
    "        y_pred = self(X)        \n",
    "        loss = self.train_loss(y_pred, y)\n",
    "        acc = self.train_accuracy(y_pred, y)\n",
    "        self.log(\"train_loss\", loss, on_epoch=True, logger=True, prog_bar=True)\n",
    "        self.log(\"train_accuracy\", acc, on_epoch=True, logger=True, prog_bar=True)\n",
    "        return loss\n",
    "\n",
    "    def validation_step(self, batch, batch_idx):\n",
    "        X, y = batch\n",
    "        y_pred = self(X)\n",
    "        loss = self.val_loss(y_pred, y)\n",
    "        acc = self.val_accuracy(y_pred, y)\n",
    "        self.log(\"val_loss\", loss, on_epoch=True, logger=True, prog_bar=True)\n",
    "        self.log(\"val_accuracy\", acc, on_epoch=True, logger=True, prog_bar=True)\n",
    "        return loss"
   ]
  },
  {
   "cell_type": "code",
   "execution_count": 27,
   "metadata": {},
   "outputs": [
    {
     "name": "stderr",
     "output_type": "stream",
     "text": [
      "/home/bk_anupam/anaconda3/envs/fastai/lib/python3.9/site-packages/pytorch_lightning/callbacks/model_checkpoint.py:446: UserWarning: Checkpoint directory ./model exists and is not empty.\n",
      "  rank_zero_warn(f\"Checkpoint directory {dirpath} exists and is not empty.\")\n"
     ]
    }
   ],
   "source": [
    "from pytorch_lightning.callbacks import ModelCheckpoint, BackboneFinetuning\n",
    "\n",
    "cassava_model = ResnetTL_LitModel(num_classes=5, lr=0.00036)\n",
    "tb_logger = pl.loggers.TensorBoardLogger(\"logs\", \"cassava_model\")\n",
    "checkpoint_callback = ModelCheckpoint(\n",
    "    dirpath=\"./model\", \n",
    "    verbose=True,\n",
    "    monitor=\"val_loss\", \n",
    "    filename=\"cassava_best_model_3\"\n",
    "    )\n",
    "multiplicative = lambda epoch: 1.5\n",
    "backbone_finetuning = BackboneFinetuning(2, multiplicative)\n",
    "\n",
    "trainer = pl.Trainer(\n",
    "    gpus=1,\n",
    "    auto_select_gpus=True,\n",
    "    progress_bar_refresh_rate=20,\n",
    "    max_epochs=NUM_EPOCHS,\n",
    "    logger=tb_logger,\n",
    "    auto_lr_find=True,\n",
    "    callbacks=[checkpoint_callback, backbone_finetuning]\n",
    ")"
   ]
  },
  {
   "cell_type": "code",
   "execution_count": 23,
   "metadata": {},
   "outputs": [],
   "source": [
    "# model = ResnetTL_LitModel.load_from_checkpoint(\"./model/cassava_best_model.ckpt\",     \n",
    "#                                                 num_classes=5)\n",
    "# model.to(\"cuda\")\n",
    "# model.eval()\n",
    "\n",
    "# incorrect = 0\n",
    "# total = 0\n",
    "# predicted_labels_incorrect = []\n",
    "# labels_incorrect = []\n",
    "# with torch.no_grad():\n",
    "#     counter=0\n",
    "#     for imgs, labels in tqdm.tqdm(dm.val_dataloader()):                \n",
    "#         predicted_cuda_labels = torch.argmax(model(imgs.to(\"cuda\")), dim=1)\n",
    "#         predicted_labels = predicted_cuda_labels.cpu().detach()\n",
    "#         total += labels.shape[0]\n",
    "#         correct_pred = predicted_labels == labels\n",
    "#         incorrect_pred = ~correct_pred\n",
    "#         num_incorrect_pred = incorrect_pred.sum()\n",
    "#         incorrect += int(num_incorrect_pred)\n",
    "#         if num_incorrect_pred > 0:\n",
    "#             predicted_labels_incorrect.append(predicted_labels[incorrect_pred].numpy())\n",
    "#             labels_incorrect.append(labels[incorrect_pred].numpy())\n",
    "# print(f'Total no. of images in validation set: {total}')\n",
    "# print(f'Incorrectly classified images in validation set: {incorrect}')\n",
    "# accuracy = ((total-incorrect) / total) * 100        \n",
    "# print(f\"Accuracy: {accuracy}%\")"
   ]
  },
  {
   "cell_type": "code",
   "execution_count": 24,
   "metadata": {},
   "outputs": [
    {
     "name": "stderr",
     "output_type": "stream",
     "text": [
      "LOCAL_RANK: 0 - CUDA_VISIBLE_DEVICES: [0]\n",
      "\n",
      "  | Name           | Type             | Params\n",
      "----------------------------------------------------\n",
      "0 | train_loss     | CrossEntropyLoss | 0     \n",
      "1 | val_loss       | CrossEntropyLoss | 0     \n",
      "2 | train_accuracy | Accuracy         | 0     \n",
      "3 | val_accuracy   | Accuracy         | 0     \n",
      "4 | backbone       | Sequential       | 23.0 M\n",
      "5 | new_head       | Sequential       | 1.2 M \n",
      "----------------------------------------------------\n",
      "24.2 M    Trainable params\n",
      "0         Non-trainable params\n",
      "24.2 M    Total params\n",
      "96.646    Total estimated model params size (MB)\n"
     ]
    },
    {
     "data": {
      "application/vnd.jupyter.widget-view+json": {
       "model_id": "7439c4154cd44ae0b01554400ffd0a70",
       "version_major": 2,
       "version_minor": 0
      },
      "text/plain": [
       "Finding best initial lr:   0%|          | 0/100 [00:00<?, ?it/s]"
      ]
     },
     "metadata": {},
     "output_type": "display_data"
    },
    {
     "name": "stderr",
     "output_type": "stream",
     "text": [
      "Restoring states from the checkpoint file at /home/bk_anupam/code/ML/Kaggle/cassava-leaf-disease/lr_find_temp_model.ckpt\n",
      "Restored all states from the checkpoint file at /home/bk_anupam/code/ML/Kaggle/cassava-leaf-disease/lr_find_temp_model.ckpt\n"
     ]
    },
    {
     "name": "stdout",
     "output_type": "stream",
     "text": [
      "0.000363078054770101\n"
     ]
    },
    {
     "data": {
      "image/png": "[encoded data removed]",
      "text/plain": [
       "<Figure size 432x288 with 1 Axes>"
      ]
     },
     "metadata": {
      "needs_background": "light"
     },
     "output_type": "display_data"
    }
   ],
   "source": [
    "lr_finder = trainer.tuner.lr_find(cassava_model, dm)\n",
    "print(lr_finder.suggestion())\n",
    "# Plot with\n",
    "fig = lr_finder.plot(suggest=True)\n",
    "fig.show()"
   ]
  },
  {
   "cell_type": "code",
   "execution_count": 25,
   "metadata": {},
   "outputs": [],
   "source": [
    "trainer.fit(cassava_model, dm)"
   ]
  },
  {
   "cell_type": "code",
   "execution_count": 1,
   "metadata": {},
   "outputs": [],
   "source": [
    "%load_ext tensorboard"
   ]
  }
 ],
 "metadata": {
  "interpreter": {
   "hash": "0197751694b00855cd01780d565fa2e16f7945f624c4146f8d6aac863c2ba178"
  },
  "kernelspec": {
   "display_name": "Python 3.9.7 64-bit ('fastai': conda)",
   "name": "python3"
  },
  "language_info": {
   "codemirror_mode": {
    "name": "ipython",
    "version": 3
   },
   "file_extension": ".py",
   "mimetype": "text/x-python",
   "name": "python",
   "nbconvert_exporter": "python",
   "pygments_lexer": "ipython3",
   "version": "3.9.7"
  },
  "orig_nbformat": 4
 },
 "nbformat": 4,
 "nbformat_minor": 2
}
