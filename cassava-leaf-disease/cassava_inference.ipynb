{
 "cells": [
  {
   "cell_type": "code",
   "execution_count": 3,
   "metadata": {},
   "outputs": [],
   "source": [
    "import torch\n",
    "import pandas as pd\n",
    "import numpy as np\n",
    "import pytorch_lightning as pl\n",
    "from torch.utils.data import Dataset, DataLoader\n",
    "from PIL import Image\n",
    "import torchvision.transforms as transforms\n",
    "import tqdm"
   ]
  },
  {
   "cell_type": "code",
   "execution_count": 4,
   "metadata": {},
   "outputs": [],
   "source": [
    "TEST_IMAGE_DIRS = \"./data/test_images/\"\n",
    "BATCH_SIZE = 32\n",
    "df_test = pd.read_csv(\"./data/sample_submission.csv\")"
   ]
  },
  {
   "cell_type": "code",
   "execution_count": 5,
   "metadata": {},
   "outputs": [],
   "source": [
    "class CassavaTestDataset(Dataset):\n",
    "    def __init__(self, df, img_name_col, img_root_folder, transform=None):\n",
    "        self.df = df\n",
    "        self.img_name_col = img_name_col\n",
    "        self.img_root_folder = img_root_folder\n",
    "        self.transform = transform        \n",
    "\n",
    "    def __getitem__(self, index):\n",
    "        img_path = self.img_root_folder + \"/\" + self.df.loc[index, self.img_name_col]\n",
    "        img = Image.open(img_path)        \n",
    "        if self.transform is not None:\n",
    "            img = self.transform(img)\n",
    "        return img\n",
    "\n",
    "    def __len__(self):\n",
    "        return len(self.df)"
   ]
  },
  {
   "cell_type": "code",
   "execution_count": 6,
   "metadata": {},
   "outputs": [],
   "source": [
    "test_transform = transforms.Compose([\n",
    "        transforms.Resize((224,224)),\n",
    "        transforms.ToTensor(),        \n",
    "        transforms.Normalize([0.4303, 0.4967, 0.3135], [0.2203, 0.2232, 0.2114])\n",
    "])"
   ]
  },
  {
   "cell_type": "code",
   "execution_count": 10,
   "metadata": {},
   "outputs": [],
   "source": [
    "ds_test = CassavaTestDataset(\n",
    "        df_test, \n",
    "        img_name_col=\"image_id\",        \n",
    "        img_root_folder=\"./data/test_images\", \n",
    "        transform=test_transform\n",
    "        )        \n",
    "\n",
    "dl_test = DataLoader(ds_test, batch_size=BATCH_SIZE)    "
   ]
  },
  {
   "cell_type": "code",
   "execution_count": 8,
   "metadata": {},
   "outputs": [],
   "source": [
    "import torchvision.models as models\n",
    "import torch.nn as nn\n",
    "import torchmetrics\n",
    "\n",
    "class ResnetTL_LitModel(pl.LightningModule):\n",
    "    def __init__(self, num_classes, fine_tune=True, drop_out=0.25, lr=0.00012):\n",
    "        super().__init__()\n",
    "        pt_model = models.resnet50(pretrained=True)\n",
    "        self.num_classes = num_classes\n",
    "        self.lr = lr\n",
    "        self.fine_tune = fine_tune\n",
    "        self.drop_out = drop_out        \n",
    "        self.train_loss = nn.CrossEntropyLoss()\n",
    "        self.val_loss = nn.CrossEntropyLoss()\n",
    "        self.train_accuracy = torchmetrics.Accuracy() \n",
    "        self.val_accuracy = torchmetrics.Accuracy()\n",
    "        # We cut the head from the pretrained model and use the remaining model as a feature extractor\n",
    "        pt_layers = list(pt_model.children())[:-1]\n",
    "        self.backbone = nn.Sequential(*pt_layers)\n",
    "        # Create a new model head\n",
    "        # For resnet50 the num of input features to final FC layer is 2048\n",
    "        self.new_head = self.create_model_head(pt_model.fc.in_features)        \n",
    "\n",
    "    def create_model_head(self, in_features):         \n",
    "        # Create a new model head \n",
    "        # The weights of the newly created layers are initialized by pytorch automatically\n",
    "        # See : https://github.com/pytorch/pytorch/blob/master/torch/nn/modules/linear.py#L81\n",
    "        new_head = nn.Sequential(\n",
    "            nn.Linear(in_features, 512),\n",
    "            nn.ReLU(),\n",
    "            nn.Dropout(p=self.drop_out),\n",
    "            nn.Linear(512, 256),\n",
    "            nn.ReLU(),\n",
    "            nn.Dropout(p=self.drop_out),\n",
    "            nn.Linear(256, self.num_classes)\n",
    "        )                \n",
    "        return new_head\n",
    "\n",
    "    def forward(self, x):\n",
    "        features = self.backbone(x)\n",
    "        features = torch.flatten(features, 1)\n",
    "        x = self.new_head(features)\n",
    "        return x\n",
    "\n",
    "    def configure_optimizers(self):\n",
    "        model_optimizer = torch.optim.Adam(self.parameters(), lr=self.lr)\n",
    "        lr_scheduler = torch.optim.lr_scheduler.ReduceLROnPlateau(model_optimizer, \"min\")        \n",
    "        return {\n",
    "            \"optimizer\": model_optimizer, \n",
    "            \"lr_scheduler\": {\n",
    "                \"scheduler\": lr_scheduler,\n",
    "                \"monitor\": \"val_loss\",\n",
    "                \"frequency\": 1\n",
    "            }\n",
    "        }\n",
    "\n",
    "    def training_step(self, batch, batch_idx):\n",
    "        X, y = batch\n",
    "        y_pred = self(X)        \n",
    "        loss = self.train_loss(y_pred, y)\n",
    "        acc = self.train_accuracy(y_pred, y)\n",
    "        self.log(\"train_loss\", loss, on_epoch=True, logger=True, prog_bar=True)\n",
    "        self.log(\"train_accuracy\", acc, on_epoch=True, logger=True, prog_bar=True)\n",
    "        return loss\n",
    "\n",
    "    def validation_step(self, batch, batch_idx):\n",
    "        X, y = batch\n",
    "        y_pred = self(X)\n",
    "        loss = self.val_loss(y_pred, y)\n",
    "        acc = self.val_accuracy(y_pred, y)\n",
    "        self.log(\"val_loss\", loss, on_epoch=True, logger=True, prog_bar=True)\n",
    "        self.log(\"val_accuracy\", acc, on_epoch=True, logger=True, prog_bar=True)\n",
    "        return loss"
   ]
  },
  {
   "cell_type": "code",
   "execution_count": 11,
   "metadata": {},
   "outputs": [
    {
     "name": "stderr",
     "output_type": "stream",
     "text": [
      "100%|██████████| 1/1 [00:07<00:00,  7.51s/it]\n"
     ]
    },
    {
     "data": {
      "text/html": [
       "<div>\n",
       "<style scoped>\n",
       "    .dataframe tbody tr th:only-of-type {\n",
       "        vertical-align: middle;\n",
       "    }\n",
       "\n",
       "    .dataframe tbody tr th {\n",
       "        vertical-align: top;\n",
       "    }\n",
       "\n",
       "    .dataframe thead th {\n",
       "        text-align: right;\n",
       "    }\n",
       "</style>\n",
       "<table border=\"1\" class=\"dataframe\">\n",
       "  <thead>\n",
       "    <tr style=\"text-align: right;\">\n",
       "      <th></th>\n",
       "      <th>image_id</th>\n",
       "      <th>label</th>\n",
       "    </tr>\n",
       "  </thead>\n",
       "  <tbody>\n",
       "    <tr>\n",
       "      <th>0</th>\n",
       "      <td>2216849948.jpg</td>\n",
       "      <td>4</td>\n",
       "    </tr>\n",
       "  </tbody>\n",
       "</table>\n",
       "</div>"
      ],
      "text/plain": [
       "         image_id  label\n",
       "0  2216849948.jpg      4"
      ]
     },
     "execution_count": 11,
     "metadata": {},
     "output_type": "execute_result"
    }
   ],
   "source": [
    "model = ResnetTL_LitModel.load_from_checkpoint(\n",
    "    \"./model/cassava_best_model.ckpt\",     \n",
    "    num_classes=5\n",
    "    )\n",
    "model.to(\"cuda\")\n",
    "model.eval()\n",
    "predictions = []\n",
    "with torch.no_grad():\n",
    "    counter=0\n",
    "    for imgs in tqdm.tqdm(dl_test):                \n",
    "        predicted_cuda_labels = torch.argmax(model(imgs.to(\"cuda\")), dim=1)\n",
    "        predicted_labels = predicted_cuda_labels.cpu().detach()\n",
    "        predictions.extend(predicted_labels.numpy().tolist())\n",
    "df_test[\"label\"] = predictions\n",
    "df_test[[\"image_id\",\"label\"]].to_csv(\"submission.csv\",index=False)\n",
    "df_test.head()"
   ]
  }
 ],
 "metadata": {
  "interpreter": {
   "hash": "0197751694b00855cd01780d565fa2e16f7945f624c4146f8d6aac863c2ba178"
  },
  "kernelspec": {
   "display_name": "Python 3.9.7 64-bit ('fastai': conda)",
   "language": "python",
   "name": "python3"
  },
  "language_info": {
   "codemirror_mode": {
    "name": "ipython",
    "version": 3
   },
   "file_extension": ".py",
   "mimetype": "text/x-python",
   "name": "python",
   "nbconvert_exporter": "python",
   "pygments_lexer": "ipython3",
   "version": "3.9.7"
  },
  "orig_nbformat": 4
 },
 "nbformat": 4,
 "nbformat_minor": 2
}
